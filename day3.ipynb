{
 "cells": [
  {
   "cell_type": "code",
   "execution_count": 6,
   "metadata": {},
   "outputs": [
    {
     "name": "stdout",
     "output_type": "stream",
     "text": [
      "array 1 [1 2 3 4 5 6]\n",
      "array 2\n",
      " [[1 2 3]\n",
      " [4 5 6]]\n",
      "array 3\n",
      " [[[1 2 3]\n",
      "  [4 5 6]\n",
      "  [7 8 9]]\n",
      "\n",
      " [[1 1 1]\n",
      "  [2 2 2]\n",
      "  [3 3 3]]\n",
      "\n",
      " [[0 0 0]\n",
      "  [0 0 0]\n",
      "  [0 0 0]]]\n",
      "sum of array is 21\n",
      "sum of mean is 3.5\n",
      "<class 'numpy.ndarray'>\n",
      "<class 'numpy.ndarray'>\n"
     ]
    }
   ],
   "source": [
    "import numpy as np\n",
    "#creating arrays\n",
    "array1=np.array([1,2,3,4,5,6])\n",
    "array2=np.array([[1,2,3],[4,5,6]])\n",
    "array3=np.array([[[1,2,3],[4,5,6],[7,8,9]], [[1,1,1], [2,2,2], [3,3,3]],[[0,0,0],[0,0,0],[0,0,0]]])\n",
    "print(\"array 1\",array1)\n",
    "print(\"array 2\\n\",array2)\n",
    "print(\"array 3\\n\",array3)\n",
    "print(\"sum of array is\",np.sum(array1))\n",
    "print(\"sum of mean is\",np.mean(array1))\n",
    "print(type(array1))\n",
    "print(type(array2))\n"
   ]
  },
  {
   "cell_type": "code",
   "execution_count": 7,
   "metadata": {},
   "outputs": [
    {
     "name": "stdout",
     "output_type": "stream",
     "text": [
      "series\n",
      " 0    1\n",
      "1    2\n",
      "2    3\n",
      "3    4\n",
      "4    5\n",
      "dtype: int64\n",
      "dataframe       name  age    address\n",
      "0    alice   25     lubhoo\n",
      "1      bob   30   laltipur\n",
      "2  charlie   35  lagankhel\n",
      "<class 'pandas.core.series.Series'>\n",
      "<class 'dict'>\n",
      "<class 'pandas.core.frame.DataFrame'>\n",
      "<class 'list'>\n",
      "<class 'list'>\n"
     ]
    }
   ],
   "source": [
    "import pandas as pd\n",
    "series=pd.Series([1,2,3,4,5])\n",
    "#creating  dataframe\n",
    "data={'name':['alice','bob','charlie'],'age':[25,30,35],'address':['lubhoo','laltipur','lagankhel']}\n",
    "df=pd.DataFrame(data)\n",
    "print(\"series\\n\",series)\n",
    "print(\"dataframe\",df)\n",
    "print(type(series))\n",
    "print(type(data))\n",
    "print(type(df))\n",
    "print(type(data['name']))\n",
    "print(type(data['age']))\n"
   ]
  },
  {
   "cell_type": "code",
   "execution_count": 8,
   "metadata": {},
   "outputs": [
    {
     "name": "stdout",
     "output_type": "stream",
     "text": [
      "elements wise addition of array is [13 36 59 82 61 62]\n"
     ]
    }
   ],
   "source": [
    "array4=np.array([12,34,56,78,56,56])\n",
    "print(\"elements wise addition of array is\",array1 + array4)"
   ]
  },
  {
   "cell_type": "code",
   "execution_count": 9,
   "metadata": {},
   "outputs": [],
   "source": [
    "df['age plus ten']=df['age']+10"
   ]
  },
  {
   "cell_type": "code",
   "execution_count": 10,
   "metadata": {},
   "outputs": [
    {
     "name": "stdout",
     "output_type": "stream",
     "text": [
      "dataframe with new column is\n",
      "       name  age    address  age plus ten\n",
      "0    alice   25     lubhoo            35\n",
      "1      bob   30   laltipur            40\n",
      "2  charlie   35  lagankhel            45\n"
     ]
    }
   ],
   "source": [
    "print(\"dataframe with new column is\\n\",df)"
   ]
  },
  {
   "cell_type": "code",
   "execution_count": 11,
   "metadata": {},
   "outputs": [],
   "source": [
    "#standrixation =newvalue=(orginal_value)/standars_deviation\n",
    "#normalization(minmax)=a"
   ]
  },
  {
   "cell_type": "code",
   "execution_count": 12,
   "metadata": {},
   "outputs": [],
   "source": [
    "from sklearn.preprocessing import MinMaxScaler,StandardScaler"
   ]
  },
  {
   "cell_type": "code",
   "execution_count": 13,
   "metadata": {},
   "outputs": [
    {
     "name": "stdout",
     "output_type": "stream",
     "text": [
      "normalized data \n",
      " [[0.         0.        ]\n",
      " [0.33333333 0.33333333]\n",
      " [0.66666667 0.66666667]\n",
      " [1.         1.        ]]\n"
     ]
    }
   ],
   "source": [
    "data=np.array([[1,2],[2,3],[3,4],[4,5]])\n",
    "scaler=MinMaxScaler()\n",
    "normalized_data=scaler.fit_transform(data)\n",
    "print(\"normalized data \\n\",normalized_data)"
   ]
  },
  {
   "cell_type": "code",
   "execution_count": 14,
   "metadata": {},
   "outputs": [
    {
     "name": "stdout",
     "output_type": "stream",
     "text": [
      "standerized data is\n",
      " [[-1.34164079 -1.34164079]\n",
      " [-0.4472136  -0.4472136 ]\n",
      " [ 0.4472136   0.4472136 ]\n",
      " [ 1.34164079  1.34164079]]\n"
     ]
    }
   ],
   "source": [
    "scaler=StandardScaler()\n",
    "standerized_data =scaler.fit_transform(data)\n",
    "print(\"standerized data is\\n\",standerized_data)"
   ]
  },
  {
   "cell_type": "code",
   "execution_count": 15,
   "metadata": {},
   "outputs": [
    {
     "name": "stdout",
     "output_type": "stream",
     "text": [
      "the data frame with new features is\n",
      "       name  age    address  age plus ten  age_squared  age cubed age_binned\n",
      "0    alice   25     lubhoo            35          625      15625      20-30\n",
      "1      bob   30   laltipur            40          900      27000      20-30\n",
      "2  charlie   35  lagankhel            45         1225      42875      30-40\n"
     ]
    }
   ],
   "source": [
    "#feature engineering\n",
    "#adding new feature\n",
    "df['age_squared']=df['age']**2\n",
    "df['age cubed']=df['age']**3\n",
    "df['age_binned']=pd.cut(df['age'],bins=[20,30,40],labels=['20-30','30-40'])\n",
    "print(\"the data frame with new features is\\n\",df)"
   ]
  },
  {
   "cell_type": "code",
   "execution_count": 16,
   "metadata": {},
   "outputs": [],
   "source": [
    "df.to_csv('output1.csv',header=True)\n"
   ]
  },
  {
   "cell_type": "code",
   "execution_count": 21,
   "metadata": {},
   "outputs": [],
   "source": [
    "df.to_csv('output.csv',header=False)\n"
   ]
  },
  {
   "cell_type": "code",
   "execution_count": 2,
   "metadata": {},
   "outputs": [
    {
     "name": "stdout",
     "output_type": "stream",
     "text": [
      "{'name': 'jagadish', 'age': '22', 'level': ['bachelor', 'secoonday']}\n",
      "<class 'list'>\n"
     ]
    }
   ],
   "source": [
    "\n",
    "info={'name':'jagadish','age':'22'}\n",
    "info['level']=['bachelor','secoonday']\n",
    "print(info)\n",
    "info.update({'level'[2]:'primary'})\n",
    "print(type(info['level']))\n"
   ]
  },
  {
   "cell_type": "code",
   "execution_count": null,
   "metadata": {},
   "outputs": [],
   "source": []
  },
  {
   "cell_type": "code",
   "execution_count": null,
   "metadata": {},
   "outputs": [],
   "source": []
  }
 ],
 "metadata": {
  "kernelspec": {
   "display_name": "jagadish",
   "language": "python",
   "name": "python3"
  },
  "language_info": {
   "codemirror_mode": {
    "name": "ipython",
    "version": 3
   },
   "file_extension": ".py",
   "mimetype": "text/x-python",
   "name": "python",
   "nbconvert_exporter": "python",
   "pygments_lexer": "ipython3",
   "version": "3.12.3"
  }
 },
 "nbformat": 4,
 "nbformat_minor": 2
}
