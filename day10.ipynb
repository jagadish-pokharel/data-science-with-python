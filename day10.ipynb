{
 "cells": [
  {
   "cell_type": "code",
   "execution_count": 3,
   "metadata": {},
   "outputs": [],
   "source": [
    "import pandas as pd\n",
    "import numpy as np\n",
    "from sklearn.model_selection import train_test_split\n",
    "from sklearn.linear_model import LogisticRegression\n",
    "from sklearn.preprocessing import StandardScaler\n",
    "from sklearn.metrics import accuracy_score, confusion_matrix, classification_report, roc_curve, auc\n",
    "import matplotlib.pyplot as plt\n",
    "import plotly.express as px\n",
    "import plotly.graph_objects as go\n",
    "from sklearn.preprocessing import StandardScaler, OneHotEncoder, LabelEncoder\n",
    "from sklearn.compose import ColumnTransformer\n"
   ]
  },
  {
   "cell_type": "code",
   "execution_count": 4,
   "metadata": {},
   "outputs": [],
   "source": [
    "data=pd.read_csv(r\"C:\\Users\\L E N O V O\\OneDrive\\Desktop\\datas\\titanic.csv\")\n",
    "data.head()\n",
    "data.dropna(inplace=True)"
   ]
  },
  {
   "cell_type": "code",
   "execution_count": 5,
   "metadata": {},
   "outputs": [
    {
     "data": {
      "text/html": [
       "<div>\n",
       "<style scoped>\n",
       "    .dataframe tbody tr th:only-of-type {\n",
       "        vertical-align: middle;\n",
       "    }\n",
       "\n",
       "    .dataframe tbody tr th {\n",
       "        vertical-align: top;\n",
       "    }\n",
       "\n",
       "    .dataframe thead th {\n",
       "        text-align: right;\n",
       "    }\n",
       "</style>\n",
       "<table border=\"1\" class=\"dataframe\">\n",
       "  <thead>\n",
       "    <tr style=\"text-align: right;\">\n",
       "      <th></th>\n",
       "      <th>PassengerId</th>\n",
       "      <th>Survived</th>\n",
       "      <th>Pclass</th>\n",
       "      <th>Name</th>\n",
       "      <th>Sex</th>\n",
       "      <th>Age</th>\n",
       "      <th>SibSp</th>\n",
       "      <th>Parch</th>\n",
       "      <th>Ticket</th>\n",
       "      <th>Fare</th>\n",
       "      <th>Cabin</th>\n",
       "      <th>Embarked</th>\n",
       "    </tr>\n",
       "  </thead>\n",
       "  <tbody>\n",
       "    <tr>\n",
       "      <th>12</th>\n",
       "      <td>904</td>\n",
       "      <td>1</td>\n",
       "      <td>1</td>\n",
       "      <td>Snyder, Mrs. John Pillsbury (Nelle Stevenson)</td>\n",
       "      <td>female</td>\n",
       "      <td>23.0</td>\n",
       "      <td>1</td>\n",
       "      <td>0</td>\n",
       "      <td>21228</td>\n",
       "      <td>82.2667</td>\n",
       "      <td>B45</td>\n",
       "      <td>S</td>\n",
       "    </tr>\n",
       "    <tr>\n",
       "      <th>14</th>\n",
       "      <td>906</td>\n",
       "      <td>1</td>\n",
       "      <td>1</td>\n",
       "      <td>Chaffee, Mrs. Herbert Fuller (Carrie Constance...</td>\n",
       "      <td>female</td>\n",
       "      <td>47.0</td>\n",
       "      <td>1</td>\n",
       "      <td>0</td>\n",
       "      <td>W.E.P. 5734</td>\n",
       "      <td>61.1750</td>\n",
       "      <td>E31</td>\n",
       "      <td>S</td>\n",
       "    </tr>\n",
       "    <tr>\n",
       "      <th>24</th>\n",
       "      <td>916</td>\n",
       "      <td>1</td>\n",
       "      <td>1</td>\n",
       "      <td>Ryerson, Mrs. Arthur Larned (Emily Maria Borie)</td>\n",
       "      <td>female</td>\n",
       "      <td>48.0</td>\n",
       "      <td>1</td>\n",
       "      <td>3</td>\n",
       "      <td>PC 17608</td>\n",
       "      <td>262.3750</td>\n",
       "      <td>B57 B59 B63 B66</td>\n",
       "      <td>C</td>\n",
       "    </tr>\n",
       "    <tr>\n",
       "      <th>26</th>\n",
       "      <td>918</td>\n",
       "      <td>1</td>\n",
       "      <td>1</td>\n",
       "      <td>Ostby, Miss. Helene Ragnhild</td>\n",
       "      <td>female</td>\n",
       "      <td>22.0</td>\n",
       "      <td>0</td>\n",
       "      <td>1</td>\n",
       "      <td>113509</td>\n",
       "      <td>61.9792</td>\n",
       "      <td>B36</td>\n",
       "      <td>C</td>\n",
       "    </tr>\n",
       "    <tr>\n",
       "      <th>28</th>\n",
       "      <td>920</td>\n",
       "      <td>0</td>\n",
       "      <td>1</td>\n",
       "      <td>Brady, Mr. John Bertram</td>\n",
       "      <td>male</td>\n",
       "      <td>41.0</td>\n",
       "      <td>0</td>\n",
       "      <td>0</td>\n",
       "      <td>113054</td>\n",
       "      <td>30.5000</td>\n",
       "      <td>A21</td>\n",
       "      <td>S</td>\n",
       "    </tr>\n",
       "  </tbody>\n",
       "</table>\n",
       "</div>"
      ],
      "text/plain": [
       "    PassengerId  Survived  Pclass  \\\n",
       "12          904         1       1   \n",
       "14          906         1       1   \n",
       "24          916         1       1   \n",
       "26          918         1       1   \n",
       "28          920         0       1   \n",
       "\n",
       "                                                 Name     Sex   Age  SibSp  \\\n",
       "12      Snyder, Mrs. John Pillsbury (Nelle Stevenson)  female  23.0      1   \n",
       "14  Chaffee, Mrs. Herbert Fuller (Carrie Constance...  female  47.0      1   \n",
       "24    Ryerson, Mrs. Arthur Larned (Emily Maria Borie)  female  48.0      1   \n",
       "26                       Ostby, Miss. Helene Ragnhild  female  22.0      0   \n",
       "28                            Brady, Mr. John Bertram    male  41.0      0   \n",
       "\n",
       "    Parch       Ticket      Fare            Cabin Embarked  \n",
       "12      0        21228   82.2667              B45        S  \n",
       "14      0  W.E.P. 5734   61.1750              E31        S  \n",
       "24      3     PC 17608  262.3750  B57 B59 B63 B66        C  \n",
       "26      1       113509   61.9792              B36        C  \n",
       "28      0       113054   30.5000              A21        S  "
      ]
     },
     "execution_count": 5,
     "metadata": {},
     "output_type": "execute_result"
    }
   ],
   "source": [
    "data.head()"
   ]
  },
  {
   "cell_type": "code",
   "execution_count": 6,
   "metadata": {},
   "outputs": [
    {
     "name": "stdout",
     "output_type": "stream",
     "text": [
      "Accuracy: 1.0\n",
      "Confusion Matrix:\n",
      "[[ 8  0]\n",
      " [ 0 10]]\n",
      "Classification Report:\n",
      "              precision    recall  f1-score   support\n",
      "\n",
      "           0       1.00      1.00      1.00         8\n",
      "           1       1.00      1.00      1.00        10\n",
      "\n",
      "    accuracy                           1.00        18\n",
      "   macro avg       1.00      1.00      1.00        18\n",
      "weighted avg       1.00      1.00      1.00        18\n",
      "\n"
     ]
    }
   ],
   "source": [
    "\n",
    "# Preprocess the data\n",
    "data['Sex'] = data['Sex'].map({'male': 0, 'female': 1})\n",
    "data['Age'] = data['Age'].fillna(data['Age'].median())\n",
    "data = pd.get_dummies(data, columns=['Embarked'], drop_first=True)\n",
    "\n",
    "# Select features and target variable\n",
    "features = ['Pclass', 'Sex', 'Age', 'SibSp', 'Parch', 'Fare', 'Embarked_Q', 'Embarked_S']\n",
    "X = data[features]\n",
    "y = data['Survived']\n",
    "\n",
    "# Split the data into training and test sets\n",
    "X_train, X_test, y_train, y_test = train_test_split(X, y, test_size=0.2, random_state=42)\n",
    "\n",
    "# Standardize the features\n",
    "scaler = StandardScaler()\n",
    "X_train = scaler.fit_transform(X_train)\n",
    "X_test = scaler.transform(X_test)\n",
    "\n",
    "# Fit the logistic regression model\n",
    "model = LogisticRegression(max_iter=200, solver='saga')\n",
    "model.fit(X_train, y_train)\n",
    "\n",
    "# Manual implementation of the sigmoid function\n",
    "def sigmoid(z):\n",
    "    return 1 / (1 + np.exp(-z))\n",
    "\n",
    "# Calculate the linear combination (z) and apply the sigmoid function\n",
    "z_train = np.dot(X_train, model.coef_.T) + model.intercept_\n",
    "y_train_proba = sigmoid(z_train)\n",
    "\n",
    "z_test = np.dot(X_test, model.coef_.T) + model.intercept_\n",
    "y_test_proba = sigmoid(z_test)\n",
    "\n",
    "# Make predictions based on the probabilities\n",
    "y_pred = (y_test_proba >= 0.5).astype(int)\n",
    "\n",
    "# Model evaluation\n",
    "accuracy = accuracy_score(y_test, y_pred)\n",
    "conf_matrix = confusion_matrix(y_test, y_pred)\n",
    "class_report = classification_report(y_test, y_pred)\n",
    "\n",
    "print(f'Accuracy: {accuracy}')\n",
    "print(f'Confusion Matrix:\\n{conf_matrix}')\n",
    "print(f'Classification Report:\\n{class_report}')\n"
   ]
  },
  {
   "cell_type": "code",
   "execution_count": 23,
   "metadata": {},
   "outputs": [
    {
     "name": "stdout",
     "output_type": "stream",
     "text": [
      "        date category  feature_1  feature_2  feature_3   target\n",
      "0 2020-01-01        C   3.417560  76.034826 -21.152004  class_1\n",
      "1 2020-01-02        D  18.761708  81.230224 -24.621166  class_3\n",
      "2 2020-01-03        A   9.504238  50.640083 -15.549008  class_2\n",
      "3 2020-01-04        C  -5.769037  34.931643 -14.823753  class_2\n",
      "4 2020-01-05        C  -8.984147  59.199443 -29.230939  class_2\n",
      "date         0\n",
      "category     0\n",
      "feature_1    0\n",
      "feature_2    0\n",
      "feature_3    0\n",
      "target       0\n",
      "dtype: int64\n"
     ]
    }
   ],
   "source": [
    "\n",
    "# Set seed for reproducibility\n",
    "np.random.seed(42)\n",
    "\n",
    "# Generate time series data\n",
    "date_range = pd.date_range(start='2020-01-01', periods=1000, freq='D')\n",
    "\n",
    "# Generate categorical data\n",
    "categories = ['A', 'B', 'C', 'D']\n",
    "categorical_data = np.random.choice(categories, size=1000)\n",
    "\n",
    "# Generate numerical features\n",
    "feature_1 = np.random.randn(1000) * 10\n",
    "feature_2 = np.random.randn(1000) * 20 + 50\n",
    "feature_3 = np.random.randn(1000) * 5 - 20\n",
    "\n",
    "# Generate target variable (4 classes as strings)\n",
    "target = np.random.choice(['class_0', 'class_1', 'class_2', 'class_3'], size=1000)\n",
    "\n",
    "# Create DataFrame\n",
    "df = pd.DataFrame({\n",
    "    'date': date_range,\n",
    "    'category': categorical_data,\n",
    "    'feature_1': feature_1,\n",
    "    'feature_2': feature_2,\n",
    "    'feature_3': feature_3,\n",
    "    'target': target\n",
    "})\n",
    "\n",
    "# Display first few rows of the dataset\n",
    "print(df.head())\n",
    "\n",
    "# Check for missing values\n",
    "print(df.isnull().sum())\n",
    "\n",
    "# Split data into features and target\n",
    "X = df.drop(columns=['date', 'target'])\n",
    "y = df['target']\n",
    "\n",
    "# Encode the target variable\n",
    "label_encoder = LabelEncoder()\n",
    "y = label_encoder.fit_transform(y)\n",
    "\n",
    "\n"
   ]
  },
  {
   "cell_type": "code",
   "execution_count": 24,
   "metadata": {},
   "outputs": [
    {
     "name": "stdout",
     "output_type": "stream",
     "text": [
      "[1 3 2 2 2 3 1 0 1 3 3 0 3 2 2 2 2 2 3 0 0 2 3 1 1 3 2 0 3 1 1 1 2 1 3 3 1\n",
      " 3 1 1 0 2 2 0 0 2 1 1 2 1 0 1 1 3 3 3 1 2 0 1 2 1 0 1 0 1 0 1 0 3 1 1 2 2\n",
      " 0 1 0 3 2 0 0 2 1 0 2 1 3 2 0 3 1 1 2 2 2 1 3 1 0 1 0 3 2 2 1 2 3 2 1 3 0\n",
      " 1 0 3 1 1 3 2 1 1 0 2 0 0 2 2 3 2 1 2 3 3 3 2 2 0 0 1 0 1 3 0 2 0 1 0 3 2\n",
      " 1 2 2 1 2 2 0 2 2 2 2 1 3 0 2 2 1 3 2 1 0 0 2 2 3 3 2 1 3 2 3 2 0 2 0 3 2\n",
      " 3 0 2 3 0 3 1 0 0 0 2 2 2 1 1 0 1 3 0 0 3 0 1 2 3 1 3 3 0 0 1 3 0 0 3 1 1\n",
      " 3 1 0 3 0 2 2 1 2 0 2 0 1 1 0 2 1 3 1 2 3 2 0 3 2 3 2 3 2 0 3 3 3 3 0 3 1\n",
      " 0 1 3 2 1 3 1 3 3 3 2 1 0 0 0 0 3 1 1 2 1 1 1 2 0 1 2 2 3 2 0 1 2 0 2 2 2\n",
      " 2 2 0 1 1 1 1 0 3 3 0 0 2 2 2 1 2 3 1 2 1 3 2 3 3 3 2 0 2 3 2 3 0 1 0 0 1\n",
      " 2 1 2 2 3 3 1 0 1 2 3 1 1 3 3 3 2 3 0 1 3 3 2 2 1 0 1 3 0 0 0 0 1 2 2 3 2\n",
      " 2 2 2 3 1 0 2 1 2 2 0 0 0 2 2 2 0 3 1 3 2 2 3 2 1 2 1 3 3 2 1 2 0 0 0 0 2\n",
      " 0 1 3 3 0 0 0 2 3 0 1 0 3 0 3 0 1 0 1 1 0 1 2 0 0 1 1 0 2 1 1 3 2 2 0 2 0\n",
      " 3 2 1 3 0 3 0 3 0 2 1 0 3 0 0 0 3 1 2 1 0 3 1 0 2 2 2 0 3 1 2 0 0 1 2 0 1\n",
      " 3 3 3 2 1 1 0 0 0 1 0 1 1 3 0 3 2 2 2 1 1 1 0 3 1 3 3 3 0 0 2 2 3 2 3 0 0\n",
      " 0 1 3 0 3 2 2 0 3 0 2 0 3 2 1 2 1 0 0 3 1 0 1 0 2 0 3 2 3 2 1 3 0 1 0 2 2\n",
      " 0 0 1 0 3 3 0 3 0 1 3 3 0 3 2 1 1 3 3 2 2 3 3 2 0 2 0 1 1 2 0 2 2 0 2 1 3\n",
      " 3 2 0 0 1 0 0 1 2 3 1 2 1 2 1 2 1 2 1 3 3 0 2 1 2 3 2 1 2 1 3 3 3 0 3 2 0\n",
      " 3 2 2 2 1 0 2 1 3 2 1 2 0 0 3 2 1 3 2 3 1 3 3 3 2 1 0 2 0 0 2 2 1 1 3 0 1\n",
      " 3 1 2 1 0 1 0 2 0 1 3 2 1 2 2 1 1 3 2 2 1 0 1 2 1 3 0 1 3 2 1 2 3 2 3 3 3\n",
      " 1 2 2 0 0 0 0 2 3 3 1 3 2 2 2 1 0 3 2 2 0 2 3 1 2 3 2 0 2 2 1 0 0 1 2 3 0\n",
      " 0 2 2 0 2 3 0 3 3 2 3 2 1 2 3 1 2 3 0 0 2 2 0 3 3 3 2 1 1 1 1 1 2 2 1 2 2\n",
      " 1 3 2 3 2 2 1 2 0 0 1 3 3 3 0 3 3 1 3 0 0 0 1 1 2 3 1 0 0 1 1 1 2 0 2 2 3\n",
      " 0 0 1 1 3 2 1 1 0 0 1 0 3 1 0 3 0 0 0 1 2 0 3 1 1 3 0 2 0 3 1 2 1 3 0 2 1\n",
      " 1 1 0 2 0 0 0 3 3 3 2 0 0 3 0 0 1 0 1 0 2 3 1 3 1 1 1 2 0 1 2 1 0 1 2 0 2\n",
      " 0 0 3 3 3 0 1 2 2 2 3 0 3 1 0 2 3 3 1 1 3 1 2 1 1 3 3 0 0 3 1 1 0 0 0 2 2\n",
      " 0 1 0 2 1 2 1 2 1 1 1 1 3 2 2 3 1 1 2 3 1 1 1 0 3 1 0 3 1 2 0 0 1 1 0 2 2\n",
      " 3 1 2 3 2 1 3 3 3 2 1 3 0 1 0 0 3 3 2 2 2 1 2 0 2 3 2 1 1 0 1 2 3 1 0 2 0\n",
      " 1]\n"
     ]
    }
   ],
   "source": [
    "print(y)"
   ]
  },
  {
   "cell_type": "code",
   "execution_count": 33,
   "metadata": {},
   "outputs": [
    {
     "name": "stdout",
     "output_type": "stream",
     "text": [
      "ColumnTransformer(transformers=[('num', StandardScaler(),\n",
      "                                 ['feature_1', 'feature_2', 'feature_3']),\n",
      "                                ('cat', OneHotEncoder(), ['category'])])\n"
     ]
    },
    {
     "data": {
      "text/plain": [
       "array([1, 0, 2, 1, 3, 1, 3, 1, 0, 1, 1, 0, 0, 1, 0, 0, 0, 3, 1, 0, 3, 0,\n",
       "       1, 1, 2, 2, 3, 3, 3, 0, 1, 3, 3, 2, 1, 1, 0, 1, 0, 2, 2, 0, 2, 1,\n",
       "       0, 3, 0, 3, 2, 2, 1, 0, 3, 1, 3, 0, 1, 0, 0, 3, 2, 3, 1, 3, 1, 0,\n",
       "       0, 0, 2, 0, 1, 1, 3, 2, 2, 3, 2, 2, 2, 1, 2, 0, 3, 1, 3, 2, 1, 3,\n",
       "       2, 1, 1, 0, 1, 0, 0, 2, 1, 1, 0, 2, 0, 2, 3, 0, 3, 3, 1, 3, 1, 0,\n",
       "       0, 3, 0, 0, 0, 2, 2, 1, 3, 3, 0, 1, 1, 0, 1, 3, 2, 1, 3, 2, 1, 1,\n",
       "       2, 3, 1, 1, 0, 2, 3, 1, 1, 0, 3, 2, 1, 0, 0, 2, 1, 2, 2, 0, 2, 3,\n",
       "       2, 3, 1, 0, 2, 1, 1, 2, 0, 0, 1, 3, 2, 0, 1, 1, 0, 2, 3, 3, 1, 3,\n",
       "       2, 2, 2, 3, 1, 0, 3, 1, 1, 2, 1, 3, 1, 1, 3, 2, 1, 1, 0, 1, 0, 2,\n",
       "       3, 2, 1, 0, 0, 2, 2, 3, 1, 3, 1, 3, 0, 0, 2, 3, 1, 2, 1, 0, 0, 3,\n",
       "       3, 2, 3, 3, 1, 2, 0, 1, 2, 0, 2, 3, 3, 3, 2, 3, 0, 3, 2, 1, 1, 3,\n",
       "       3, 2, 2, 1, 1, 3, 1, 2, 0, 1, 2, 2, 2, 0, 2, 1, 0, 0, 0, 3, 0, 2,\n",
       "       2, 1, 1, 1, 0, 0, 3, 2, 2, 3, 2, 2, 0, 1, 2, 2, 3, 2, 0, 1, 2, 0,\n",
       "       2, 1, 1, 2, 1, 0, 2, 0, 1, 3, 3, 0, 0, 1, 2, 2, 2, 1, 3, 2, 2, 2,\n",
       "       0, 2, 3, 1, 2, 2, 2, 0, 3, 2, 1, 3, 2, 3, 2, 0, 0, 1, 1, 0, 2, 2,\n",
       "       0, 0, 3, 1, 1, 0, 2, 1, 0, 1, 3, 0, 0, 0, 2, 2, 2, 0, 3, 3, 3, 1,\n",
       "       1, 2, 0, 1, 2, 3, 1, 2, 2, 1, 2, 1, 1, 0, 1, 3, 1, 2, 2, 2, 0, 0,\n",
       "       3, 0, 2, 2, 2, 0, 3, 0, 2, 3, 1, 0, 3, 2, 1, 1, 3, 0, 1, 3, 3, 0,\n",
       "       3, 1, 2, 0, 2, 2, 2, 3, 0, 2, 3, 1, 2, 1, 0, 1, 0, 3, 0, 2, 3, 0,\n",
       "       2, 2, 1, 2, 1, 2, 2, 2, 2, 2, 3, 3, 3, 1, 0, 1, 1, 3, 2, 2, 1, 0,\n",
       "       0, 1, 3, 3, 1, 2, 1, 1, 2, 2, 0, 2, 3, 0, 3, 0, 0, 3, 2, 3, 2, 2,\n",
       "       2, 1, 1, 0, 1, 2, 3, 3, 3, 2, 3, 0, 1, 3, 1, 0, 1, 1, 0, 3, 0, 1,\n",
       "       1, 1, 0, 3, 3, 0, 0, 1, 3, 2, 3, 2, 1, 2, 2, 2, 3, 2, 0, 0, 0, 0,\n",
       "       2, 3, 3, 1, 0, 2, 3, 1, 3, 0, 0, 0, 1, 0, 1, 2, 2, 1, 2, 1, 0, 3,\n",
       "       3, 3, 2, 3, 2, 3, 1, 0, 2, 2, 3, 0, 2, 1, 0, 3, 3, 0, 0, 1, 1, 1,\n",
       "       3, 3, 2, 0, 1, 0, 3, 2, 0, 3, 0, 3, 2, 1, 2, 1, 3, 2, 0, 0, 0, 3,\n",
       "       3, 3, 3, 3, 0, 0, 1, 2, 2, 2, 2, 2, 2, 0, 1, 0, 3, 3, 1, 1, 3, 2,\n",
       "       3, 1, 0, 1, 1, 1, 0, 1, 3, 3, 1, 3, 3, 1, 2, 3, 1, 2, 1, 3, 0, 3,\n",
       "       3, 1, 1, 0, 1, 2, 2, 1, 3, 2, 0, 0, 3, 1, 3, 2, 0, 0, 2, 1, 0, 1,\n",
       "       3, 3, 3, 3, 3, 0, 0, 2, 3, 2, 1, 1, 2, 2, 3, 0, 2, 0, 1, 2, 0, 2,\n",
       "       2, 2, 0, 0, 2, 3, 2, 0, 0, 0, 2, 1, 0, 3, 1, 3, 0, 2, 2, 2, 0, 1,\n",
       "       2, 2, 3, 3, 0, 1, 2, 3, 3, 0, 2, 2, 3, 0, 1, 1, 0, 0, 0, 0, 2, 1,\n",
       "       0, 0, 2, 2, 3, 0, 1, 1, 2, 3, 3, 3, 3, 2, 0, 0, 3, 3, 2, 3, 0, 1,\n",
       "       2, 1, 1, 2, 1, 1, 2, 2, 2, 2, 2, 3, 0, 2, 0, 1, 3, 3, 2, 2, 3, 0,\n",
       "       2, 3, 1, 3, 1, 0, 2, 2, 0, 1, 0, 0, 2, 3, 0, 3, 3, 2, 3, 0, 3, 1,\n",
       "       0, 1, 2, 0, 0, 0, 3, 1, 2, 1, 3, 3, 2, 1, 2, 2, 0, 0, 0, 1, 2, 2,\n",
       "       0, 3, 1, 3, 1, 3, 2, 2])"
      ]
     },
     "execution_count": 33,
     "metadata": {},
     "output_type": "execute_result"
    }
   ],
   "source": [
    "# One-hot encode the categorical feature\n",
    "# Scale the numerical features\n",
    "preprocessor = ColumnTransformer(\n",
    "    transformers=[\n",
    "        ('num', StandardScaler(), ['feature_1', 'feature_2', 'feature_3']),\n",
    "        ('cat', OneHotEncoder(), ['category'])\n",
    "    ])\n",
    "print(preprocessor)\n",
    "# Split data into training and testing sets\n",
    "X_train, X_test, y_train, y_test = train_test_split(X, y, test_size=0.2, random_state=42)\n",
    "(X_train)\n",
    "(y_train)"
   ]
  },
  {
   "cell_type": "code",
   "execution_count": 29,
   "metadata": {},
   "outputs": [
    {
     "name": "stdout",
     "output_type": "stream",
     "text": [
      "Accuracy: 0.24\n",
      "Classification Report:\n",
      "               precision    recall  f1-score   support\n",
      "\n",
      "           0       0.29      0.32      0.30        50\n",
      "           1       0.23      0.08      0.12        59\n",
      "           2       0.21      0.27      0.24        51\n",
      "           3       0.24      0.33      0.28        40\n",
      "\n",
      "    accuracy                           0.24       200\n",
      "   macro avg       0.24      0.25      0.23       200\n",
      "weighted avg       0.24      0.24      0.23       200\n",
      "\n",
      "Confusion Matrix:\n",
      " [[16  8 14 12]\n",
      " [17  5 29  8]\n",
      " [ 9  7 14 21]\n",
      " [14  2 11 13]]\n"
     ]
    },
    {
     "name": "stderr",
     "output_type": "stream",
     "text": [
      "c:\\Users\\L E N O V O\\machine-learning\\machinelearn\\Lib\\site-packages\\sklearn\\linear_model\\_logistic.py:1247: FutureWarning:\n",
      "\n",
      "'multi_class' was deprecated in version 1.5 and will be removed in 1.7. From then on, it will always use 'multinomial'. Leave it to its default value to avoid this warning.\n",
      "\n"
     ]
    }
   ],
   "source": [
    "X_train = preprocessor.fit_transform(X_train)\n",
    "X_test = preprocessor.transform(X_test)\n",
    "\n",
    "# Train the logistic regression model\n",
    "model = LogisticRegression(multi_class='multinomial', solver='lbfgs', max_iter=1000)\n",
    "model.fit(X_train, y_train)\n",
    "\n",
    "# Make predictions\n",
    "y_pred = model.predict(X_test)\n",
    "\n",
    "# Evaluate the model\n",
    "accuracy = accuracy_score(y_test, y_pred)\n",
    "report = classification_report(y_test, y_pred)\n",
    "conf_matrix = confusion_matrix(y_test, y_pred)\n",
    "\n",
    "print(f'Accuracy: {accuracy}')\n",
    "print('Classification Report:\\n', report)\n",
    "print('Confusion Matrix:\\n', conf_matrix)"
   ]
  },
  {
   "cell_type": "code",
   "execution_count": 30,
   "metadata": {},
   "outputs": [
    {
     "data": {
      "image/png": "[encoded data removed]",
      "text/plain": [
       "<Figure size 1000x700 with 2 Axes>"
      ]
     },
     "metadata": {},
     "output_type": "display_data"
    }
   ],
   "source": [
    "import matplotlib.pyplot as plt\n",
    "from sklearn.metrics import accuracy_score, classification_report, confusion_matrix\n",
    "import seaborn as sns\n",
    "\n",
    "\n",
    "# Plot the confusion matrix\n",
    "plt.figure(figsize=(10, 7))\n",
    "sns.heatmap(conf_matrix, annot=True, fmt='d', cmap='Blues', xticklabels=label_encoder.classes_, yticklabels=label_encoder.classes_)\n",
    "plt.xlabel('Predicted')\n",
    "plt.ylabel('Actual')\n",
    "plt.title('Confusion Matrix')\n",
    "plt.show()\n"
   ]
  },
  {
   "cell_type": "code",
   "execution_count": 31,
   "metadata": {},
   "outputs": [
    {
     "data": {
      "application/vnd.plotly.v1+json": {
       "config": {
        "plotlyServerURL": "https://plot.ly"
       },
       "data": [
        {
         "mode": "lines",
         "name": "Class class_0 (AUC=0.53)",
         "type": "scatter",
         "x": [
          0,
          0.006666666666666667,
          0.03333333333333333,
          0.03333333333333333,
          0.14,
          0.14,
          0.16,
          0.16,
          0.18666666666666668,
          0.18666666666666668,
          0.19333333333333333,
          0.19333333333333333,
          0.2,
          0.2,
          0.20666666666666667,
          0.20666666666666667,
          0.23333333333333334,
          0.23333333333333334,
          0.24,
          0.24,
          0.25333333333333335,
          0.25333333333333335,
          0.26666666666666666,
          0.26666666666666666,
          0.28,
          0.28,
          0.3,
          0.3,
          0.3333333333333333,
          0.3333333333333333,
          0.36666666666666664,
          0.36666666666666664,
          0.4266666666666667,
          0.4266666666666667,
          0.44666666666666666,
          0.44666666666666666,
          0.4533333333333333,
          0.4533333333333333,
          0.47333333333333333,
          0.47333333333333333,
          0.49333333333333335,
          0.49333333333333335,
          0.5,
          0.5,
          0.5466666666666666,
          0.5466666666666666,
          0.6466666666666666,
          0.6466666666666666,
          0.7066666666666667,
          0.7066666666666667,
          0.7333333333333333,
          0.7333333333333333,
          0.7466666666666667,
          0.7466666666666667,
          0.7533333333333333,
          0.7533333333333333,
          0.7666666666666667,
          0.7666666666666667,
          0.7933333333333333,
          0.7933333333333333,
          0.8133333333333334,
          0.8133333333333334,
          0.82,
          0.82,
          0.84,
          0.84,
          0.8666666666666667,
          0.8666666666666667,
          0.88,
          0.88,
          0.8866666666666667,
          0.8866666666666667,
          0.96,
          0.96,
          0.98,
          0.98,
          1
         ],
         "y": [
          0,
          0,
          0,
          0.02,
          0.02,
          0.12,
          0.12,
          0.14,
          0.14,
          0.18,
          0.18,
          0.2,
          0.2,
          0.22,
          0.22,
          0.24,
          0.24,
          0.28,
          0.28,
          0.3,
          0.3,
          0.34,
          0.34,
          0.36,
          0.36,
          0.38,
          0.38,
          0.4,
          0.4,
          0.44,
          0.44,
          0.46,
          0.46,
          0.5,
          0.5,
          0.54,
          0.54,
          0.56,
          0.56,
          0.58,
          0.58,
          0.6,
          0.6,
          0.62,
          0.62,
          0.64,
          0.64,
          0.68,
          0.68,
          0.7,
          0.7,
          0.72,
          0.72,
          0.74,
          0.74,
          0.76,
          0.76,
          0.78,
          0.78,
          0.8,
          0.8,
          0.82,
          0.82,
          0.86,
          0.86,
          0.88,
          0.88,
          0.9,
          0.9,
          0.94,
          0.94,
          0.96,
          0.96,
          0.98,
          0.98,
          1,
          1
         ]
        },
        {
         "mode": "lines",
         "name": "Class class_1 (AUC=0.49)",
         "type": "scatter",
         "x": [
          0,
          0.0070921985815602835,
          0.028368794326241134,
          0.028368794326241134,
          0.03546099290780142,
          0.03546099290780142,
          0.04964539007092199,
          0.04964539007092199,
          0.06382978723404255,
          0.06382978723404255,
          0.0851063829787234,
          0.0851063829787234,
          0.14184397163120568,
          0.14184397163120568,
          0.14893617021276595,
          0.14893617021276595,
          0.18439716312056736,
          0.18439716312056736,
          0.19858156028368795,
          0.19858156028368795,
          0.23404255319148937,
          0.23404255319148937,
          0.24113475177304963,
          0.24113475177304963,
          0.2553191489361702,
          0.2553191489361702,
          0.2624113475177305,
          0.2624113475177305,
          0.2695035460992908,
          0.2695035460992908,
          0.2978723404255319,
          0.2978723404255319,
          0.3404255319148936,
          0.3404255319148936,
          0.5390070921985816,
          0.5390070921985816,
          0.5531914893617021,
          0.5531914893617021,
          0.5673758865248227,
          0.5673758865248227,
          0.6028368794326241,
          0.6028368794326241,
          0.6312056737588653,
          0.6312056737588653,
          0.6453900709219859,
          0.6453900709219859,
          0.6737588652482269,
          0.6737588652482269,
          0.6808510638297872,
          0.6808510638297872,
          0.6879432624113475,
          0.6879432624113475,
          0.6950354609929078,
          0.6950354609929078,
          0.7163120567375887,
          0.7163120567375887,
          0.7730496453900709,
          0.7730496453900709,
          0.7943262411347518,
          0.7943262411347518,
          0.8297872340425532,
          0.8297872340425532,
          0.851063829787234,
          0.851063829787234,
          0.8581560283687943,
          0.8581560283687943,
          0.8794326241134752,
          0.8794326241134752,
          0.8865248226950354,
          0.8865248226950354,
          0.8936170212765957,
          0.8936170212765957,
          0.9078014184397163,
          0.9078014184397163,
          0.9432624113475178,
          0.9432624113475178,
          0.950354609929078,
          0.950354609929078,
          0.9645390070921985,
          0.9645390070921985,
          0.9716312056737588,
          0.9716312056737588,
          0.9929078014184397,
          0.9929078014184397,
          1,
          1
         ],
         "y": [
          0,
          0,
          0,
          0.03389830508474576,
          0.03389830508474576,
          0.05084745762711865,
          0.05084745762711865,
          0.06779661016949153,
          0.06779661016949153,
          0.0847457627118644,
          0.0847457627118644,
          0.1016949152542373,
          0.1016949152542373,
          0.13559322033898305,
          0.13559322033898305,
          0.1864406779661017,
          0.1864406779661017,
          0.2033898305084746,
          0.2033898305084746,
          0.22033898305084745,
          0.22033898305084745,
          0.2542372881355932,
          0.2542372881355932,
          0.2711864406779661,
          0.2711864406779661,
          0.3050847457627119,
          0.3050847457627119,
          0.3389830508474576,
          0.3389830508474576,
          0.3898305084745763,
          0.3898305084745763,
          0.4067796610169492,
          0.4067796610169492,
          0.4745762711864407,
          0.4745762711864407,
          0.4915254237288136,
          0.4915254237288136,
          0.5084745762711864,
          0.5084745762711864,
          0.5254237288135594,
          0.5254237288135594,
          0.5423728813559322,
          0.5423728813559322,
          0.576271186440678,
          0.576271186440678,
          0.5932203389830508,
          0.5932203389830508,
          0.6101694915254238,
          0.6101694915254238,
          0.6271186440677966,
          0.6271186440677966,
          0.6610169491525424,
          0.6610169491525424,
          0.6949152542372882,
          0.6949152542372882,
          0.711864406779661,
          0.711864406779661,
          0.7457627118644068,
          0.7457627118644068,
          0.7627118644067796,
          0.7627118644067796,
          0.7796610169491526,
          0.7796610169491526,
          0.7966101694915254,
          0.7966101694915254,
          0.8135593220338984,
          0.8135593220338984,
          0.8305084745762712,
          0.8305084745762712,
          0.847457627118644,
          0.847457627118644,
          0.864406779661017,
          0.864406779661017,
          0.8813559322033898,
          0.8813559322033898,
          0.8983050847457628,
          0.8983050847457628,
          0.9322033898305084,
          0.9322033898305084,
          0.9491525423728814,
          0.9491525423728814,
          0.9661016949152542,
          0.9661016949152542,
          0.9830508474576272,
          0.9830508474576272,
          1
         ]
        },
        {
         "mode": "lines",
         "name": "Class class_2 (AUC=0.46)",
         "type": "scatter",
         "x": [
          0,
          0,
          0.013422818791946308,
          0.013422818791946308,
          0.026845637583892617,
          0.026845637583892617,
          0.10067114093959731,
          0.10067114093959731,
          0.10738255033557047,
          0.10738255033557047,
          0.16778523489932887,
          0.16778523489932887,
          0.2080536912751678,
          0.2080536912751678,
          0.2214765100671141,
          0.2214765100671141,
          0.22818791946308725,
          0.22818791946308725,
          0.2751677852348993,
          0.2751677852348993,
          0.3087248322147651,
          0.3087248322147651,
          0.3288590604026846,
          0.3288590604026846,
          0.348993288590604,
          0.348993288590604,
          0.35570469798657717,
          0.35570469798657717,
          0.40939597315436244,
          0.40939597315436244,
          0.4228187919463087,
          0.4228187919463087,
          0.44966442953020136,
          0.44966442953020136,
          0.48322147651006714,
          0.48322147651006714,
          0.4899328859060403,
          0.4899328859060403,
          0.5100671140939598,
          0.5100671140939598,
          0.5167785234899329,
          0.5167785234899329,
          0.610738255033557,
          0.610738255033557,
          0.6308724832214765,
          0.6308724832214765,
          0.6644295302013423,
          0.6644295302013423,
          0.6711409395973155,
          0.6711409395973155,
          0.7248322147651006,
          0.7248322147651006,
          0.7583892617449665,
          0.7583892617449665,
          0.7651006711409396,
          0.7651006711409396,
          0.7919463087248322,
          0.7919463087248322,
          0.8053691275167785,
          0.8053691275167785,
          0.8187919463087249,
          0.8187919463087249,
          0.8590604026845637,
          0.8590604026845637,
          0.8993288590604027,
          0.8993288590604027,
          0.9194630872483222,
          0.9194630872483222,
          0.9328859060402684,
          0.9328859060402684,
          0.9395973154362416,
          0.9395973154362416,
          0.9664429530201343,
          0.9664429530201343,
          1
         ],
         "y": [
          0,
          0.0196078431372549,
          0.0196078431372549,
          0.0392156862745098,
          0.0392156862745098,
          0.058823529411764705,
          0.058823529411764705,
          0.0784313725490196,
          0.0784313725490196,
          0.09803921568627451,
          0.09803921568627451,
          0.11764705882352941,
          0.11764705882352941,
          0.13725490196078433,
          0.13725490196078433,
          0.1568627450980392,
          0.1568627450980392,
          0.17647058823529413,
          0.17647058823529413,
          0.19607843137254902,
          0.19607843137254902,
          0.21568627450980393,
          0.21568627450980393,
          0.23529411764705882,
          0.23529411764705882,
          0.2549019607843137,
          0.2549019607843137,
          0.29411764705882354,
          0.29411764705882354,
          0.3137254901960784,
          0.3137254901960784,
          0.3333333333333333,
          0.3333333333333333,
          0.4117647058823529,
          0.4117647058823529,
          0.45098039215686275,
          0.45098039215686275,
          0.5098039215686274,
          0.5098039215686274,
          0.5294117647058824,
          0.5294117647058824,
          0.5686274509803921,
          0.5686274509803921,
          0.5882352941176471,
          0.5882352941176471,
          0.6274509803921569,
          0.6274509803921569,
          0.6470588235294118,
          0.6470588235294118,
          0.6666666666666666,
          0.6666666666666666,
          0.6862745098039216,
          0.6862745098039216,
          0.7058823529411765,
          0.7058823529411765,
          0.7254901960784313,
          0.7254901960784313,
          0.7450980392156863,
          0.7450980392156863,
          0.7843137254901961,
          0.7843137254901961,
          0.803921568627451,
          0.803921568627451,
          0.8235294117647058,
          0.8235294117647058,
          0.8431372549019608,
          0.8431372549019608,
          0.9019607843137255,
          0.9019607843137255,
          0.9411764705882353,
          0.9411764705882353,
          0.9607843137254902,
          0.9607843137254902,
          1,
          1
         ]
        },
        {
         "mode": "lines",
         "name": "Class class_3 (AUC=0.53)",
         "type": "scatter",
         "x": [
          0,
          0,
          0,
          0.1,
          0.1,
          0.10625,
          0.10625,
          0.11875,
          0.11875,
          0.14375,
          0.14375,
          0.175,
          0.175,
          0.20625,
          0.20625,
          0.2125,
          0.2125,
          0.2375,
          0.2375,
          0.3125,
          0.3125,
          0.31875,
          0.31875,
          0.33125,
          0.33125,
          0.34375,
          0.34375,
          0.38125,
          0.38125,
          0.39375,
          0.39375,
          0.40625,
          0.40625,
          0.45,
          0.45,
          0.5,
          0.5,
          0.5625,
          0.5625,
          0.56875,
          0.56875,
          0.60625,
          0.60625,
          0.675,
          0.675,
          0.6875,
          0.6875,
          0.71875,
          0.71875,
          0.725,
          0.725,
          0.74375,
          0.74375,
          0.75,
          0.75,
          0.75625,
          0.75625,
          0.81875,
          0.81875,
          0.8375,
          0.8375,
          0.89375,
          0.89375,
          0.95,
          0.95,
          1,
          1
         ],
         "y": [
          0,
          0.025,
          0.075,
          0.075,
          0.1,
          0.1,
          0.125,
          0.125,
          0.15,
          0.15,
          0.2,
          0.2,
          0.225,
          0.225,
          0.25,
          0.25,
          0.275,
          0.275,
          0.3,
          0.3,
          0.35,
          0.35,
          0.375,
          0.375,
          0.4,
          0.4,
          0.45,
          0.45,
          0.475,
          0.475,
          0.5,
          0.5,
          0.525,
          0.525,
          0.55,
          0.55,
          0.575,
          0.575,
          0.6,
          0.6,
          0.625,
          0.625,
          0.65,
          0.65,
          0.675,
          0.675,
          0.7,
          0.7,
          0.725,
          0.725,
          0.75,
          0.75,
          0.775,
          0.775,
          0.8,
          0.8,
          0.825,
          0.825,
          0.85,
          0.85,
          0.875,
          0.875,
          0.9,
          0.9,
          0.925,
          0.925,
          1
         ]
        },
        {
         "line": {
          "dash": "dash"
         },
         "mode": "lines",
         "name": "Chance",
         "type": "scatter",
         "x": [
          0,
          1
         ],
         "y": [
          0,
          1
         ]
        }
       ],
       "layout": {
        "template": {
         "data": {
          "bar": [
           {
            "error_x": {
             "color": "#2a3f5f"
            },
            "error_y": {
             "color": "#2a3f5f"
            },
            "marker": {
             "line": {
              "color": "#E5ECF6",
              "width": 0.5
             },
             "pattern": {
              "fillmode": "overlay",
              "size": 10,
              "solidity": 0.2
             }
            },
            "type": "bar"
           }
          ],
          "barpolar": [
           {
            "marker": {
             "line": {
              "color": "#E5ECF6",
              "width": 0.5
             },
             "pattern": {
              "fillmode": "overlay",
              "size": 10,
              "solidity": 0.2
             }
            },
            "type": "barpolar"
           }
          ],
          "carpet": [
           {
            "aaxis": {
             "endlinecolor": "#2a3f5f",
             "gridcolor": "white",
             "linecolor": "white",
             "minorgridcolor": "white",
             "startlinecolor": "#2a3f5f"
            },
            "baxis": {
             "endlinecolor": "#2a3f5f",
             "gridcolor": "white",
             "linecolor": "white",
             "minorgridcolor": "white",
             "startlinecolor": "#2a3f5f"
            },
            "type": "carpet"
           }
          ],
          "choropleth": [
           {
            "colorbar": {
             "outlinewidth": 0,
             "ticks": ""
            },
            "type": "choropleth"
           }
          ],
          "contour": [
           {
            "colorbar": {
             "outlinewidth": 0,
             "ticks": ""
            },
            "colorscale": [
             [
              0,
              "#0d0887"
             ],
             [
              0.1111111111111111,
              "#46039f"
             ],
             [
              0.2222222222222222,
              "#7201a8"
             ],
             [
              0.3333333333333333,
              "#9c179e"
             ],
             [
              0.4444444444444444,
              "#bd3786"
             ],
             [
              0.5555555555555556,
              "#d8576b"
             ],
             [
              0.6666666666666666,
              "#ed7953"
             ],
             [
              0.7777777777777778,
              "#fb9f3a"
             ],
             [
              0.8888888888888888,
              "#fdca26"
             ],
             [
              1,
              "#f0f921"
             ]
            ],
            "type": "contour"
           }
          ],
          "contourcarpet": [
           {
            "colorbar": {
             "outlinewidth": 0,
             "ticks": ""
            },
            "type": "contourcarpet"
           }
          ],
          "heatmap": [
           {
            "colorbar": {
             "outlinewidth": 0,
             "ticks": ""
            },
            "colorscale": [
             [
              0,
              "#0d0887"
             ],
             [
              0.1111111111111111,
              "#46039f"
             ],
             [
              0.2222222222222222,
              "#7201a8"
             ],
             [
              0.3333333333333333,
              "#9c179e"
             ],
             [
              0.4444444444444444,
              "#bd3786"
             ],
             [
              0.5555555555555556,
              "#d8576b"
             ],
             [
              0.6666666666666666,
              "#ed7953"
             ],
             [
              0.7777777777777778,
              "#fb9f3a"
             ],
             [
              0.8888888888888888,
              "#fdca26"
             ],
             [
              1,
              "#f0f921"
             ]
            ],
            "type": "heatmap"
           }
          ],
          "heatmapgl": [
           {
            "colorbar": {
             "outlinewidth": 0,
             "ticks": ""
            },
            "colorscale": [
             [
              0,
              "#0d0887"
             ],
             [
              0.1111111111111111,
              "#46039f"
             ],
             [
              0.2222222222222222,
              "#7201a8"
             ],
             [
              0.3333333333333333,
              "#9c179e"
             ],
             [
              0.4444444444444444,
              "#bd3786"
             ],
             [
              0.5555555555555556,
              "#d8576b"
             ],
             [
              0.6666666666666666,
              "#ed7953"
             ],
             [
              0.7777777777777778,
              "#fb9f3a"
             ],
             [
              0.8888888888888888,
              "#fdca26"
             ],
             [
              1,
              "#f0f921"
             ]
            ],
            "type": "heatmapgl"
           }
          ],
          "histogram": [
           {
            "marker": {
             "pattern": {
              "fillmode": "overlay",
              "size": 10,
              "solidity": 0.2
             }
            },
            "type": "histogram"
           }
          ],
          "histogram2d": [
           {
            "colorbar": {
             "outlinewidth": 0,
             "ticks": ""
            },
            "colorscale": [
             [
              0,
              "#0d0887"
             ],
             [
              0.1111111111111111,
              "#46039f"
             ],
             [
              0.2222222222222222,
              "#7201a8"
             ],
             [
              0.3333333333333333,
              "#9c179e"
             ],
             [
              0.4444444444444444,
              "#bd3786"
             ],
             [
              0.5555555555555556,
              "#d8576b"
             ],
             [
              0.6666666666666666,
              "#ed7953"
             ],
             [
              0.7777777777777778,
              "#fb9f3a"
             ],
             [
              0.8888888888888888,
              "#fdca26"
             ],
             [
              1,
              "#f0f921"
             ]
            ],
            "type": "histogram2d"
           }
          ],
          "histogram2dcontour": [
           {
            "colorbar": {
             "outlinewidth": 0,
             "ticks": ""
            },
            "colorscale": [
             [
              0,
              "#0d0887"
             ],
             [
              0.1111111111111111,
              "#46039f"
             ],
             [
              0.2222222222222222,
              "#7201a8"
             ],
             [
              0.3333333333333333,
              "#9c179e"
             ],
             [
              0.4444444444444444,
              "#bd3786"
             ],
             [
              0.5555555555555556,
              "#d8576b"
             ],
             [
              0.6666666666666666,
              "#ed7953"
             ],
             [
              0.7777777777777778,
              "#fb9f3a"
             ],
             [
              0.8888888888888888,
              "#fdca26"
             ],
             [
              1,
              "#f0f921"
             ]
            ],
            "type": "histogram2dcontour"
           }
          ],
          "mesh3d": [
           {
            "colorbar": {
             "outlinewidth": 0,
             "ticks": ""
            },
            "type": "mesh3d"
           }
          ],
          "parcoords": [
           {
            "line": {
             "colorbar": {
              "outlinewidth": 0,
              "ticks": ""
             }
            },
            "type": "parcoords"
           }
          ],
          "pie": [
           {
            "automargin": true,
            "type": "pie"
           }
          ],
          "scatter": [
           {
            "fillpattern": {
             "fillmode": "overlay",
             "size": 10,
             "solidity": 0.2
            },
            "type": "scatter"
           }
          ],
          "scatter3d": [
           {
            "line": {
             "colorbar": {
              "outlinewidth": 0,
              "ticks": ""
             }
            },
            "marker": {
             "colorbar": {
              "outlinewidth": 0,
              "ticks": ""
             }
            },
            "type": "scatter3d"
           }
          ],
          "scattercarpet": [
           {
            "marker": {
             "colorbar": {
              "outlinewidth": 0,
              "ticks": ""
             }
            },
            "type": "scattercarpet"
           }
          ],
          "scattergeo": [
           {
            "marker": {
             "colorbar": {
              "outlinewidth": 0,
              "ticks": ""
             }
            },
            "type": "scattergeo"
           }
          ],
          "scattergl": [
           {
            "marker": {
             "colorbar": {
              "outlinewidth": 0,
              "ticks": ""
             }
            },
            "type": "scattergl"
           }
          ],
          "scattermapbox": [
           {
            "marker": {
             "colorbar": {
              "outlinewidth": 0,
              "ticks": ""
             }
            },
            "type": "scattermapbox"
           }
          ],
          "scatterpolar": [
           {
            "marker": {
             "colorbar": {
              "outlinewidth": 0,
              "ticks": ""
             }
            },
            "type": "scatterpolar"
           }
          ],
          "scatterpolargl": [
           {
            "marker": {
             "colorbar": {
              "outlinewidth": 0,
              "ticks": ""
             }
            },
            "type": "scatterpolargl"
           }
          ],
          "scatterternary": [
           {
            "marker": {
             "colorbar": {
              "outlinewidth": 0,
              "ticks": ""
             }
            },
            "type": "scatterternary"
           }
          ],
          "surface": [
           {
            "colorbar": {
             "outlinewidth": 0,
             "ticks": ""
            },
            "colorscale": [
             [
              0,
              "#0d0887"
             ],
             [
              0.1111111111111111,
              "#46039f"
             ],
             [
              0.2222222222222222,
              "#7201a8"
             ],
             [
              0.3333333333333333,
              "#9c179e"
             ],
             [
              0.4444444444444444,
              "#bd3786"
             ],
             [
              0.5555555555555556,
              "#d8576b"
             ],
             [
              0.6666666666666666,
              "#ed7953"
             ],
             [
              0.7777777777777778,
              "#fb9f3a"
             ],
             [
              0.8888888888888888,
              "#fdca26"
             ],
             [
              1,
              "#f0f921"
             ]
            ],
            "type": "surface"
           }
          ],
          "table": [
           {
            "cells": {
             "fill": {
              "color": "#EBF0F8"
             },
             "line": {
              "color": "white"
             }
            },
            "header": {
             "fill": {
              "color": "#C8D4E3"
             },
             "line": {
              "color": "white"
             }
            },
            "type": "table"
           }
          ]
         },
         "layout": {
          "annotationdefaults": {
           "arrowcolor": "#2a3f5f",
           "arrowhead": 0,
           "arrowwidth": 1
          },
          "autotypenumbers": "strict",
          "coloraxis": {
           "colorbar": {
            "outlinewidth": 0,
            "ticks": ""
           }
          },
          "colorscale": {
           "diverging": [
            [
             0,
             "#8e0152"
            ],
            [
             0.1,
             "#c51b7d"
            ],
            [
             0.2,
             "#de77ae"
            ],
            [
             0.3,
             "#f1b6da"
            ],
            [
             0.4,
             "#fde0ef"
            ],
            [
             0.5,
             "#f7f7f7"
            ],
            [
             0.6,
             "#e6f5d0"
            ],
            [
             0.7,
             "#b8e186"
            ],
            [
             0.8,
             "#7fbc41"
            ],
            [
             0.9,
             "#4d9221"
            ],
            [
             1,
             "#276419"
            ]
           ],
           "sequential": [
            [
             0,
             "#0d0887"
            ],
            [
             0.1111111111111111,
             "#46039f"
            ],
            [
             0.2222222222222222,
             "#7201a8"
            ],
            [
             0.3333333333333333,
             "#9c179e"
            ],
            [
             0.4444444444444444,
             "#bd3786"
            ],
            [
             0.5555555555555556,
             "#d8576b"
            ],
            [
             0.6666666666666666,
             "#ed7953"
            ],
            [
             0.7777777777777778,
             "#fb9f3a"
            ],
            [
             0.8888888888888888,
             "#fdca26"
            ],
            [
             1,
             "#f0f921"
            ]
           ],
           "sequentialminus": [
            [
             0,
             "#0d0887"
            ],
            [
             0.1111111111111111,
             "#46039f"
            ],
            [
             0.2222222222222222,
             "#7201a8"
            ],
            [
             0.3333333333333333,
             "#9c179e"
            ],
            [
             0.4444444444444444,
             "#bd3786"
            ],
            [
             0.5555555555555556,
             "#d8576b"
            ],
            [
             0.6666666666666666,
             "#ed7953"
            ],
            [
             0.7777777777777778,
             "#fb9f3a"
            ],
            [
             0.8888888888888888,
             "#fdca26"
            ],
            [
             1,
             "#f0f921"
            ]
           ]
          },
          "colorway": [
           "#636efa",
           "#EF553B",
           "#00cc96",
           "#ab63fa",
           "#FFA15A",
           "#19d3f3",
           "#FF6692",
           "#B6E880",
           "#FF97FF",
           "#FECB52"
          ],
          "font": {
           "color": "#2a3f5f"
          },
          "geo": {
           "bgcolor": "white",
           "lakecolor": "white",
           "landcolor": "#E5ECF6",
           "showlakes": true,
           "showland": true,
           "subunitcolor": "white"
          },
          "hoverlabel": {
           "align": "left"
          },
          "hovermode": "closest",
          "mapbox": {
           "style": "light"
          },
          "paper_bgcolor": "white",
          "plot_bgcolor": "#E5ECF6",
          "polar": {
           "angularaxis": {
            "gridcolor": "white",
            "linecolor": "white",
            "ticks": ""
           },
           "bgcolor": "#E5ECF6",
           "radialaxis": {
            "gridcolor": "white",
            "linecolor": "white",
            "ticks": ""
           }
          },
          "scene": {
           "xaxis": {
            "backgroundcolor": "#E5ECF6",
            "gridcolor": "white",
            "gridwidth": 2,
            "linecolor": "white",
            "showbackground": true,
            "ticks": "",
            "zerolinecolor": "white"
           },
           "yaxis": {
            "backgroundcolor": "#E5ECF6",
            "gridcolor": "white",
            "gridwidth": 2,
            "linecolor": "white",
            "showbackground": true,
            "ticks": "",
            "zerolinecolor": "white"
           },
           "zaxis": {
            "backgroundcolor": "#E5ECF6",
            "gridcolor": "white",
            "gridwidth": 2,
            "linecolor": "white",
            "showbackground": true,
            "ticks": "",
            "zerolinecolor": "white"
           }
          },
          "shapedefaults": {
           "line": {
            "color": "#2a3f5f"
           }
          },
          "ternary": {
           "aaxis": {
            "gridcolor": "white",
            "linecolor": "white",
            "ticks": ""
           },
           "baxis": {
            "gridcolor": "white",
            "linecolor": "white",
            "ticks": ""
           },
           "bgcolor": "#E5ECF6",
           "caxis": {
            "gridcolor": "white",
            "linecolor": "white",
            "ticks": ""
           }
          },
          "title": {
           "x": 0.05
          },
          "xaxis": {
           "automargin": true,
           "gridcolor": "white",
           "linecolor": "white",
           "ticks": "",
           "title": {
            "standoff": 15
           },
           "zerolinecolor": "white",
           "zerolinewidth": 2
          },
          "yaxis": {
           "automargin": true,
           "gridcolor": "white",
           "linecolor": "white",
           "ticks": "",
           "title": {
            "standoff": 15
           },
           "zerolinecolor": "white",
           "zerolinewidth": 2
          }
         }
        },
        "title": {
         "text": "ROC Curve"
        },
        "xaxis": {
         "title": {
          "text": "False Positive Rate"
         }
        },
        "yaxis": {
         "title": {
          "text": "True Positive Rate"
         }
        }
       }
      }
     },
     "metadata": {},
     "output_type": "display_data"
    }
   ],
   "source": [
    "from sklearn.metrics import roc_curve, roc_auc_score\n",
    "from sklearn.preprocessing import label_binarize\n",
    "import plotly.graph_objs as go\n",
    "\n",
    "# Binarize the target variable for ROC curve\n",
    "y_test_bin = label_binarize(y_test, classes=[0, 1, 2, 3])\n",
    "y_pred_prob = model.predict_proba(X_test)\n",
    "\n",
    "# Plot ROC curve for each class\n",
    "fig = go.Figure()\n",
    "\n",
    "for i, class_name in enumerate(label_encoder.classes_):\n",
    "    fpr, tpr, _ = roc_curve(y_test_bin[:, i], y_pred_prob[:, i])\n",
    "    auc = roc_auc_score(y_test_bin[:, i], y_pred_prob[:, i])\n",
    "    fig.add_trace(go.Scatter(x=fpr, y=tpr, mode='lines', name=f'Class {class_name} (AUC={auc:.2f})'))\n",
    "\n",
    "fig.add_trace(go.Scatter(x=[0, 1], y=[0, 1], mode='lines', line=dict(dash='dash'), name='Chance'))\n",
    "fig.update_layout(title='ROC Curve', xaxis_title='False Positive Rate', yaxis_title='True Positive Rate')\n",
    "fig.show()"
   ]
  },
  {
   "cell_type": "code",
   "execution_count": 32,
   "metadata": {},
   "outputs": [
    {
     "data": {
      "application/vnd.plotly.v1+json": {
       "config": {
        "plotlyServerURL": "https://plot.ly"
       },
       "data": [
        {
         "hovertemplate": "variable=0<br>index=%{x}<br>value=%{y}<extra></extra>",
         "legendgroup": "0",
         "line": {
          "color": "#636efa",
          "dash": "solid"
         },
         "marker": {
          "symbol": "circle"
         },
         "mode": "lines",
         "name": "0",
         "orientation": "v",
         "showlegend": true,
         "type": "scatter",
         "x": [
          "num__feature_1",
          "num__feature_2",
          "num__feature_3",
          "cat__category_A",
          "cat__category_B",
          "cat__category_C",
          "cat__category_D"
         ],
         "xaxis": "x",
         "y": [
          0.08142812565396412,
          0.04303309171936567,
          -0.08143968637960541,
          0.022301899819556152,
          -0.212203484581254,
          0.054148972679331685,
          0.11145750624183766
         ],
         "yaxis": "y"
        },
        {
         "hovertemplate": "variable=1<br>index=%{x}<br>value=%{y}<extra></extra>",
         "legendgroup": "1",
         "line": {
          "color": "#EF553B",
          "dash": "solid"
         },
         "marker": {
          "symbol": "circle"
         },
         "mode": "lines",
         "name": "1",
         "orientation": "v",
         "showlegend": true,
         "type": "scatter",
         "x": [
          "num__feature_1",
          "num__feature_2",
          "num__feature_3",
          "cat__category_A",
          "cat__category_B",
          "cat__category_C",
          "cat__category_D"
         ],
         "xaxis": "x",
         "y": [
          -0.028990836987396896,
          -0.06866899598465429,
          0.027735362620891102,
          0.07027313677424402,
          -0.05740376725536645,
          -0.048785883901312395,
          0.022669965226256316
         ],
         "yaxis": "y"
        },
        {
         "hovertemplate": "variable=2<br>index=%{x}<br>value=%{y}<extra></extra>",
         "legendgroup": "2",
         "line": {
          "color": "#00cc96",
          "dash": "solid"
         },
         "marker": {
          "symbol": "circle"
         },
         "mode": "lines",
         "name": "2",
         "orientation": "v",
         "showlegend": true,
         "type": "scatter",
         "x": [
          "num__feature_1",
          "num__feature_2",
          "num__feature_3",
          "cat__category_A",
          "cat__category_B",
          "cat__category_C",
          "cat__category_D"
         ],
         "xaxis": "x",
         "y": [
          -0.00014875407523484786,
          0.008159377095029223,
          -0.03416158960075796,
          0.10022964800221912,
          0.062958857284335,
          -0.03964432507942412,
          -0.04726874707769152
         ],
         "yaxis": "y"
        },
        {
         "hovertemplate": "variable=3<br>index=%{x}<br>value=%{y}<extra></extra>",
         "legendgroup": "3",
         "line": {
          "color": "#ab63fa",
          "dash": "solid"
         },
         "marker": {
          "symbol": "circle"
         },
         "mode": "lines",
         "name": "3",
         "orientation": "v",
         "showlegend": true,
         "type": "scatter",
         "x": [
          "num__feature_1",
          "num__feature_2",
          "num__feature_3",
          "cat__category_A",
          "cat__category_B",
          "cat__category_C",
          "cat__category_D"
         ],
         "xaxis": "x",
         "y": [
          -0.05228853459133221,
          0.017476527170259052,
          0.08786591335947219,
          -0.19280468459601938,
          0.20664839455228534,
          0.03428123630140478,
          -0.0868587243904026
         ],
         "yaxis": "y"
        }
       ],
       "layout": {
        "legend": {
         "title": {
          "text": "variable"
         },
         "tracegroupgap": 0
        },
        "template": {
         "data": {
          "bar": [
           {
            "error_x": {
             "color": "#2a3f5f"
            },
            "error_y": {
             "color": "#2a3f5f"
            },
            "marker": {
             "line": {
              "color": "#E5ECF6",
              "width": 0.5
             },
             "pattern": {
              "fillmode": "overlay",
              "size": 10,
              "solidity": 0.2
             }
            },
            "type": "bar"
           }
          ],
          "barpolar": [
           {
            "marker": {
             "line": {
              "color": "#E5ECF6",
              "width": 0.5
             },
             "pattern": {
              "fillmode": "overlay",
              "size": 10,
              "solidity": 0.2
             }
            },
            "type": "barpolar"
           }
          ],
          "carpet": [
           {
            "aaxis": {
             "endlinecolor": "#2a3f5f",
             "gridcolor": "white",
             "linecolor": "white",
             "minorgridcolor": "white",
             "startlinecolor": "#2a3f5f"
            },
            "baxis": {
             "endlinecolor": "#2a3f5f",
             "gridcolor": "white",
             "linecolor": "white",
             "minorgridcolor": "white",
             "startlinecolor": "#2a3f5f"
            },
            "type": "carpet"
           }
          ],
          "choropleth": [
           {
            "colorbar": {
             "outlinewidth": 0,
             "ticks": ""
            },
            "type": "choropleth"
           }
          ],
          "contour": [
           {
            "colorbar": {
             "outlinewidth": 0,
             "ticks": ""
            },
            "colorscale": [
             [
              0,
              "#0d0887"
             ],
             [
              0.1111111111111111,
              "#46039f"
             ],
             [
              0.2222222222222222,
              "#7201a8"
             ],
             [
              0.3333333333333333,
              "#9c179e"
             ],
             [
              0.4444444444444444,
              "#bd3786"
             ],
             [
              0.5555555555555556,
              "#d8576b"
             ],
             [
              0.6666666666666666,
              "#ed7953"
             ],
             [
              0.7777777777777778,
              "#fb9f3a"
             ],
             [
              0.8888888888888888,
              "#fdca26"
             ],
             [
              1,
              "#f0f921"
             ]
            ],
            "type": "contour"
           }
          ],
          "contourcarpet": [
           {
            "colorbar": {
             "outlinewidth": 0,
             "ticks": ""
            },
            "type": "contourcarpet"
           }
          ],
          "heatmap": [
           {
            "colorbar": {
             "outlinewidth": 0,
             "ticks": ""
            },
            "colorscale": [
             [
              0,
              "#0d0887"
             ],
             [
              0.1111111111111111,
              "#46039f"
             ],
             [
              0.2222222222222222,
              "#7201a8"
             ],
             [
              0.3333333333333333,
              "#9c179e"
             ],
             [
              0.4444444444444444,
              "#bd3786"
             ],
             [
              0.5555555555555556,
              "#d8576b"
             ],
             [
              0.6666666666666666,
              "#ed7953"
             ],
             [
              0.7777777777777778,
              "#fb9f3a"
             ],
             [
              0.8888888888888888,
              "#fdca26"
             ],
             [
              1,
              "#f0f921"
             ]
            ],
            "type": "heatmap"
           }
          ],
          "heatmapgl": [
           {
            "colorbar": {
             "outlinewidth": 0,
             "ticks": ""
            },
            "colorscale": [
             [
              0,
              "#0d0887"
             ],
             [
              0.1111111111111111,
              "#46039f"
             ],
             [
              0.2222222222222222,
              "#7201a8"
             ],
             [
              0.3333333333333333,
              "#9c179e"
             ],
             [
              0.4444444444444444,
              "#bd3786"
             ],
             [
              0.5555555555555556,
              "#d8576b"
             ],
             [
              0.6666666666666666,
              "#ed7953"
             ],
             [
              0.7777777777777778,
              "#fb9f3a"
             ],
             [
              0.8888888888888888,
              "#fdca26"
             ],
             [
              1,
              "#f0f921"
             ]
            ],
            "type": "heatmapgl"
           }
          ],
          "histogram": [
           {
            "marker": {
             "pattern": {
              "fillmode": "overlay",
              "size": 10,
              "solidity": 0.2
             }
            },
            "type": "histogram"
           }
          ],
          "histogram2d": [
           {
            "colorbar": {
             "outlinewidth": 0,
             "ticks": ""
            },
            "colorscale": [
             [
              0,
              "#0d0887"
             ],
             [
              0.1111111111111111,
              "#46039f"
             ],
             [
              0.2222222222222222,
              "#7201a8"
             ],
             [
              0.3333333333333333,
              "#9c179e"
             ],
             [
              0.4444444444444444,
              "#bd3786"
             ],
             [
              0.5555555555555556,
              "#d8576b"
             ],
             [
              0.6666666666666666,
              "#ed7953"
             ],
             [
              0.7777777777777778,
              "#fb9f3a"
             ],
             [
              0.8888888888888888,
              "#fdca26"
             ],
             [
              1,
              "#f0f921"
             ]
            ],
            "type": "histogram2d"
           }
          ],
          "histogram2dcontour": [
           {
            "colorbar": {
             "outlinewidth": 0,
             "ticks": ""
            },
            "colorscale": [
             [
              0,
              "#0d0887"
             ],
             [
              0.1111111111111111,
              "#46039f"
             ],
             [
              0.2222222222222222,
              "#7201a8"
             ],
             [
              0.3333333333333333,
              "#9c179e"
             ],
             [
              0.4444444444444444,
              "#bd3786"
             ],
             [
              0.5555555555555556,
              "#d8576b"
             ],
             [
              0.6666666666666666,
              "#ed7953"
             ],
             [
              0.7777777777777778,
              "#fb9f3a"
             ],
             [
              0.8888888888888888,
              "#fdca26"
             ],
             [
              1,
              "#f0f921"
             ]
            ],
            "type": "histogram2dcontour"
           }
          ],
          "mesh3d": [
           {
            "colorbar": {
             "outlinewidth": 0,
             "ticks": ""
            },
            "type": "mesh3d"
           }
          ],
          "parcoords": [
           {
            "line": {
             "colorbar": {
              "outlinewidth": 0,
              "ticks": ""
             }
            },
            "type": "parcoords"
           }
          ],
          "pie": [
           {
            "automargin": true,
            "type": "pie"
           }
          ],
          "scatter": [
           {
            "fillpattern": {
             "fillmode": "overlay",
             "size": 10,
             "solidity": 0.2
            },
            "type": "scatter"
           }
          ],
          "scatter3d": [
           {
            "line": {
             "colorbar": {
              "outlinewidth": 0,
              "ticks": ""
             }
            },
            "marker": {
             "colorbar": {
              "outlinewidth": 0,
              "ticks": ""
             }
            },
            "type": "scatter3d"
           }
          ],
          "scattercarpet": [
           {
            "marker": {
             "colorbar": {
              "outlinewidth": 0,
              "ticks": ""
             }
            },
            "type": "scattercarpet"
           }
          ],
          "scattergeo": [
           {
            "marker": {
             "colorbar": {
              "outlinewidth": 0,
              "ticks": ""
             }
            },
            "type": "scattergeo"
           }
          ],
          "scattergl": [
           {
            "marker": {
             "colorbar": {
              "outlinewidth": 0,
              "ticks": ""
             }
            },
            "type": "scattergl"
           }
          ],
          "scattermapbox": [
           {
            "marker": {
             "colorbar": {
              "outlinewidth": 0,
              "ticks": ""
             }
            },
            "type": "scattermapbox"
           }
          ],
          "scatterpolar": [
           {
            "marker": {
             "colorbar": {
              "outlinewidth": 0,
              "ticks": ""
             }
            },
            "type": "scatterpolar"
           }
          ],
          "scatterpolargl": [
           {
            "marker": {
             "colorbar": {
              "outlinewidth": 0,
              "ticks": ""
             }
            },
            "type": "scatterpolargl"
           }
          ],
          "scatterternary": [
           {
            "marker": {
             "colorbar": {
              "outlinewidth": 0,
              "ticks": ""
             }
            },
            "type": "scatterternary"
           }
          ],
          "surface": [
           {
            "colorbar": {
             "outlinewidth": 0,
             "ticks": ""
            },
            "colorscale": [
             [
              0,
              "#0d0887"
             ],
             [
              0.1111111111111111,
              "#46039f"
             ],
             [
              0.2222222222222222,
              "#7201a8"
             ],
             [
              0.3333333333333333,
              "#9c179e"
             ],
             [
              0.4444444444444444,
              "#bd3786"
             ],
             [
              0.5555555555555556,
              "#d8576b"
             ],
             [
              0.6666666666666666,
              "#ed7953"
             ],
             [
              0.7777777777777778,
              "#fb9f3a"
             ],
             [
              0.8888888888888888,
              "#fdca26"
             ],
             [
              1,
              "#f0f921"
             ]
            ],
            "type": "surface"
           }
          ],
          "table": [
           {
            "cells": {
             "fill": {
              "color": "#EBF0F8"
             },
             "line": {
              "color": "white"
             }
            },
            "header": {
             "fill": {
              "color": "#C8D4E3"
             },
             "line": {
              "color": "white"
             }
            },
            "type": "table"
           }
          ]
         },
         "layout": {
          "annotationdefaults": {
           "arrowcolor": "#2a3f5f",
           "arrowhead": 0,
           "arrowwidth": 1
          },
          "autotypenumbers": "strict",
          "coloraxis": {
           "colorbar": {
            "outlinewidth": 0,
            "ticks": ""
           }
          },
          "colorscale": {
           "diverging": [
            [
             0,
             "#8e0152"
            ],
            [
             0.1,
             "#c51b7d"
            ],
            [
             0.2,
             "#de77ae"
            ],
            [
             0.3,
             "#f1b6da"
            ],
            [
             0.4,
             "#fde0ef"
            ],
            [
             0.5,
             "#f7f7f7"
            ],
            [
             0.6,
             "#e6f5d0"
            ],
            [
             0.7,
             "#b8e186"
            ],
            [
             0.8,
             "#7fbc41"
            ],
            [
             0.9,
             "#4d9221"
            ],
            [
             1,
             "#276419"
            ]
           ],
           "sequential": [
            [
             0,
             "#0d0887"
            ],
            [
             0.1111111111111111,
             "#46039f"
            ],
            [
             0.2222222222222222,
             "#7201a8"
            ],
            [
             0.3333333333333333,
             "#9c179e"
            ],
            [
             0.4444444444444444,
             "#bd3786"
            ],
            [
             0.5555555555555556,
             "#d8576b"
            ],
            [
             0.6666666666666666,
             "#ed7953"
            ],
            [
             0.7777777777777778,
             "#fb9f3a"
            ],
            [
             0.8888888888888888,
             "#fdca26"
            ],
            [
             1,
             "#f0f921"
            ]
           ],
           "sequentialminus": [
            [
             0,
             "#0d0887"
            ],
            [
             0.1111111111111111,
             "#46039f"
            ],
            [
             0.2222222222222222,
             "#7201a8"
            ],
            [
             0.3333333333333333,
             "#9c179e"
            ],
            [
             0.4444444444444444,
             "#bd3786"
            ],
            [
             0.5555555555555556,
             "#d8576b"
            ],
            [
             0.6666666666666666,
             "#ed7953"
            ],
            [
             0.7777777777777778,
             "#fb9f3a"
            ],
            [
             0.8888888888888888,
             "#fdca26"
            ],
            [
             1,
             "#f0f921"
            ]
           ]
          },
          "colorway": [
           "#636efa",
           "#EF553B",
           "#00cc96",
           "#ab63fa",
           "#FFA15A",
           "#19d3f3",
           "#FF6692",
           "#B6E880",
           "#FF97FF",
           "#FECB52"
          ],
          "font": {
           "color": "#2a3f5f"
          },
          "geo": {
           "bgcolor": "white",
           "lakecolor": "white",
           "landcolor": "#E5ECF6",
           "showlakes": true,
           "showland": true,
           "subunitcolor": "white"
          },
          "hoverlabel": {
           "align": "left"
          },
          "hovermode": "closest",
          "mapbox": {
           "style": "light"
          },
          "paper_bgcolor": "white",
          "plot_bgcolor": "#E5ECF6",
          "polar": {
           "angularaxis": {
            "gridcolor": "white",
            "linecolor": "white",
            "ticks": ""
           },
           "bgcolor": "#E5ECF6",
           "radialaxis": {
            "gridcolor": "white",
            "linecolor": "white",
            "ticks": ""
           }
          },
          "scene": {
           "xaxis": {
            "backgroundcolor": "#E5ECF6",
            "gridcolor": "white",
            "gridwidth": 2,
            "linecolor": "white",
            "showbackground": true,
            "ticks": "",
            "zerolinecolor": "white"
           },
           "yaxis": {
            "backgroundcolor": "#E5ECF6",
            "gridcolor": "white",
            "gridwidth": 2,
            "linecolor": "white",
            "showbackground": true,
            "ticks": "",
            "zerolinecolor": "white"
           },
           "zaxis": {
            "backgroundcolor": "#E5ECF6",
            "gridcolor": "white",
            "gridwidth": 2,
            "linecolor": "white",
            "showbackground": true,
            "ticks": "",
            "zerolinecolor": "white"
           }
          },
          "shapedefaults": {
           "line": {
            "color": "#2a3f5f"
           }
          },
          "ternary": {
           "aaxis": {
            "gridcolor": "white",
            "linecolor": "white",
            "ticks": ""
           },
           "baxis": {
            "gridcolor": "white",
            "linecolor": "white",
            "ticks": ""
           },
           "bgcolor": "#E5ECF6",
           "caxis": {
            "gridcolor": "white",
            "linecolor": "white",
            "ticks": ""
           }
          },
          "title": {
           "x": 0.05
          },
          "xaxis": {
           "automargin": true,
           "gridcolor": "white",
           "linecolor": "white",
           "ticks": "",
           "title": {
            "standoff": 15
           },
           "zerolinecolor": "white",
           "zerolinewidth": 2
          },
          "yaxis": {
           "automargin": true,
           "gridcolor": "white",
           "linecolor": "white",
           "ticks": "",
           "title": {
            "standoff": 15
           },
           "zerolinecolor": "white",
           "zerolinewidth": 2
          }
         }
        },
        "title": {
         "text": "Trained Weights of Logistic Regression Model"
        },
        "xaxis": {
         "anchor": "y",
         "domain": [
          0,
          1
         ],
         "title": {
          "text": "index"
         }
        },
        "yaxis": {
         "anchor": "x",
         "domain": [
          0,
          1
         ],
         "title": {
          "text": "value"
         }
        }
       }
      }
     },
     "metadata": {},
     "output_type": "display_data"
    }
   ],
   "source": [
    "# Retrieve the model's coefficients (weights)\n",
    "weights = model.coef_\n",
    "\n",
    "# Create a DataFrame for visualization\n",
    "weights_df = pd.DataFrame(weights, columns=preprocessor.get_feature_names_out())\n",
    "\n",
    "# Plot the weights\n",
    "fig = px.line(weights_df.T, title='Trained Weights of Logistic Regression Model')\n",
    "fig.show()\n"
   ]
  },
  {
   "cell_type": "code",
   "execution_count": null,
   "metadata": {},
   "outputs": [],
   "source": []
  },
  {
   "cell_type": "code",
   "execution_count": null,
   "metadata": {},
   "outputs": [],
   "source": []
  }
 ],
 "metadata": {
  "kernelspec": {
   "display_name": "machinelearn",
   "language": "python",
   "name": "python3"
  },
  "language_info": {
   "codemirror_mode": {
    "name": "ipython",
    "version": 3
   },
   "file_extension": ".py",
   "mimetype": "text/x-python",
   "name": "python",
   "nbconvert_exporter": "python",
   "pygments_lexer": "ipython3",
   "version": "3.12.3"
  }
 },
 "nbformat": 4,
 "nbformat_minor": 2
}
