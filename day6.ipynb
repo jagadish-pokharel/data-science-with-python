{
 "cells": [
  {
   "cell_type": "code",
   "execution_count": 14,
   "metadata": {},
   "outputs": [
    {
     "name": "stdout",
     "output_type": "stream",
     "text": [
      "                                             Definition                                                Key\n",
      "survival                                       Survival                                {0: 'No', 1: 'Yes'}\n",
      "pclass                                     Ticket class                     {1: '1st', 2: '2nd', 3: '3rd'}\n",
      "sex                                                 Sex                                                NaN\n",
      "Age                                        Age in years                                                NaN\n",
      "sibsp     Number of siblings/spouses aboard the Titanic                                                NaN\n",
      "parch     Number of parents/children aboard the Titanic                                                NaN\n",
      "ticket                                    Ticket number                                                NaN\n",
      "fare                                     Passenger fare                                                NaN\n",
      "cabin                                      Cabin number                                                NaN\n",
      "embarked                            Port of Embarkation  {'C': 'Cherbourg', 'Q': 'Queenstown', 'S': 'So...\n"
     ]
    }
   ],
   "source": [
    "import pandas as pd\n",
    "pd.set_option('display.expand_frame_repr', False)\n",
    "\n",
    "\n",
    "# Create a dictionary with column names as keys and descriptions as values\n",
    "data = {\n",
    "    \"survival\": {\n",
    "        \"Definition\": \"Survival\",\n",
    "        \"Key\": {0: \"No\", 1: \"Yes\"}\n",
    "    },\n",
    "    \"pclass\": {\n",
    "        \"Definition\": \"Ticket class\",\n",
    "        \"Key\": {1: \"1st\", 2: \"2nd\", 3: \"3rd\"}\n",
    "    },\n",
    "    \"sex\": {\"Definition\": \"Sex\"},\n",
    "    \"Age\": {\"Definition\": \"Age in years\"},\n",
    "    \"sibsp\": {\"Definition\": \"Number of siblings/spouses aboard the Titanic\"},\n",
    "    \"parch\": {\"Definition\": \"Number of parents/children aboard the Titanic\"},\n",
    "    \"ticket\": {\"Definition\": \"Ticket number\"},\n",
    "    \"fare\": {\"Definition\": \"Passenger fare\"},\n",
    "    \"cabin\": {\"Definition\": \"Cabin number\"},\n",
    "    \"embarked\": {\n",
    "        \"Definition\": \"Port of Embarkation\",\n",
    "        \"Key\": {\"C\": \"Cherbourg\", \"Q\": \"Queenstown\", \"S\": \"Southampton\"}\n",
    "    }\n",
    "}\n",
    "\n",
    "# Create the DataFrame from the dictionary\n",
    "df = pd.DataFrame(data)\n",
    "\n",
    "#print(df)\n",
    "\n",
    "pivoted_df = df.T\n",
    "\n",
    "# Print the pivoted DataFrame\n",
    "print(pivoted_df)\n"
   ]
  },
  {
   "cell_type": "markdown",
   "metadata": {},
   "source": [
    "- pclass: A proxy for socio-economic status (SES)\n",
    "\n",
    "    - 1st = Upper class\n",
    "    - 2nd = Middle class\n",
    "    - 3rd = Lower class\n",
    "- age: Age is fractional if less than 1. If the age is estimated, it is in the form of xx.5.\n",
    "\n",
    "- sibsp: The dataset defines family relations as follows:\n",
    "\n",
    "    - Sibling: brother, sister, stepbrother, stepsister\n",
    "    - Spouse: husband, wife (mistresses and fiancés were ignored)\n",
    "- parch: The dataset defines family relations as follows:\n",
    "\n",
    "    - Parent: mother, father\n",
    "    - Child: daughter, son, stepdaughter, stepson\n",
    "    - Some children traveled only with a nanny, therefore parch=0 for them."
   ]
  },
  {
   "cell_type": "markdown",
   "metadata": {},
   "source": [
    "1. Data Preprocessing\n",
    "\n",
    "- Loading Data\n",
    "- Handling Missing Values\n",
    "- Encoding Categorical Variables\n",
    "- Feature Scaling\n",
    "- Exploratory Data Analysis (EDA)\n"
   ]
  },
  {
   "cell_type": "code",
   "execution_count": 15,
   "metadata": {},
   "outputs": [],
   "source": [
    "import pandas as pd\n",
    "\n",
    "# Load the Titanic dataset\n",
    "data = pd.read_csv('C:/Users/L E N O V O/data science/train.csv')\n"
   ]
  },
  {
   "cell_type": "code",
   "execution_count": 16,
   "metadata": {},
   "outputs": [
    {
     "name": "stdout",
     "output_type": "stream",
     "text": [
      "PassengerId      0\n",
      "Survived         0\n",
      "Pclass           0\n",
      "Name             0\n",
      "Sex              0\n",
      "Age            177\n",
      "SibSp            0\n",
      "Parch            0\n",
      "Ticket           0\n",
      "Fare             0\n",
      "Cabin          687\n",
      "Embarked         2\n",
      "dtype: int64\n"
     ]
    },
    {
     "name": "stderr",
     "output_type": "stream",
     "text": [
      "C:\\Users\\L E N O V O\\AppData\\Local\\Temp\\ipykernel_9988\\3151642978.py:5: FutureWarning: A value is trying to be set on a copy of a DataFrame or Series through chained assignment using an inplace method.\n",
      "The behavior will change in pandas 3.0. This inplace method will never work because the intermediate object on which we are setting values always behaves as a copy.\n",
      "\n",
      "For example, when doing 'df[col].method(value, inplace=True)', try using 'df.method({col: value}, inplace=True)' or df[col] = df[col].method(value) instead, to perform the operation inplace on the original object.\n",
      "\n",
      "\n",
      "  data['Age'].fillna(data['Age'].median(), inplace=True)\n"
     ]
    }
   ],
   "source": [
    "# Check for missing values\n",
    "print(data.isnull().sum())\n",
    "\n",
    "# Fill missing values in 'Age' with the median age\n",
    "data['Age'].fillna(data['Age'].median(), inplace=True)\n",
    "\n",
    "# Drop rows where 'Embarked' is missing\n",
    "data.dropna(subset=['Embarked'], inplace=True)\n",
    "\n"
   ]
  },
  {
   "cell_type": "code",
   "execution_count": 17,
   "metadata": {},
   "outputs": [],
   "source": [
    "# Many machine learning algorithms require numerical input, so we need to convert categorical variables into numerical ones\n",
    "\n",
    "# Convert 'Sex' into numerical values\n",
    "data['Sex'] = data['Sex'].map({'male': 0, 'female': 1})\n",
    "\n",
    "# Convert 'Embarked' into numerical values using one-hot encoding\n",
    "data = pd.get_dummies(data, columns=['Embarked'], drop_first=True)\n",
    "\n"
   ]
  },
  {
   "cell_type": "markdown",
   "metadata": {},
   "source": [
    "- One-hot encoding transforms categorical variables into a series of binary variables. For example, the 'Embarked' column has three possible values: 'C', 'Q', and 'S'. One-hot encoding will create three new columns (Embarked_C, Embarked_Q, Embarked_S), each containing binary values (0 or 1) indicating the presence of each category.\n",
    "\n",
    "However, with drop_first=True, one column is dropped to avoid multicollinearity, which can cause issues in models like regression. For 'Embarked', if we drop the first column ('Embarked_C'), the remaining columns will indicate if the passenger embarked from 'Q' or 'S'. If both columns are 0, it means the passenger embarked from 'C'."
   ]
  },
  {
   "cell_type": "code",
   "execution_count": 13,
   "metadata": {},
   "outputs": [
    {
     "name": "stdout",
     "output_type": "stream",
     "text": [
      "          Age      Fare\n",
      "0   -0.563674 -0.500240\n",
      "1    0.669217  0.788947\n",
      "2   -0.255451 -0.486650\n",
      "3    0.438050  0.422861\n",
      "4    0.438050 -0.484133\n",
      "..        ...       ...\n",
      "886 -0.178396 -0.384475\n",
      "887 -0.794841 -0.042213\n",
      "888 -0.101340 -0.174084\n",
      "889 -0.255451 -0.042213\n",
      "890  0.206883 -0.490173\n",
      "\n",
      "[889 rows x 2 columns]\n"
     ]
    }
   ],
   "source": [
    "# Feature scaling\n",
    "from sklearn.preprocessing import StandardScaler\n",
    "\n",
    "scaler = StandardScaler()\n",
    "data[['Age', 'Fare']] = scaler.fit_transform(data[['Age', 'Fare']])\n",
    "print(data[['Age','Fare']])\n"
   ]
  },
  {
   "cell_type": "markdown",
   "metadata": {},
   "source": [
    "Feature scaling standardizes the range of independent variables. StandardScaler transforms data such that the mean of each feature becomes 0 and the standard deviation becomes 1. This is achieved by the formula:\n",
    "\n",
    "z= (x−μ) / σ\n",
    "\n",
    "where \n",
    "𝑥 is the original value.\n",
    "μ is the mean of the feature, and \n",
    "σ is the standard deviation.\n",
    "\n",
    "\n",
    "Imagine you're comparing the heights and weights of people. Height might be measured in centimeters (e.g., 170 cm) and weight in kilograms (e.g., 70 kg). If you don't scale these values, height will dominate any analysis simply because its numbers are larger. By scaling, you transform these values so they are on a similar scale, allowing for meaningful comparison."
   ]
  },
  {
   "cell_type": "code",
   "execution_count": 21,
   "metadata": {},
   "outputs": [
    {
     "data": {
      "image/png": "[encoded data removed]",
      "text/plain": [
       "<Figure size 1000x600 with 1 Axes>"
      ]
     },
     "metadata": {},
     "output_type": "display_data"
    },
    {
     "data": {
      "image/png": "[encoded data removed]",
      "text/plain": [
       "<Figure size 1000x600 with 1 Axes>"
      ]
     },
     "metadata": {},
     "output_type": "display_data"
    }
   ],
   "source": [
    "# EDA involves visualizing the data to understand its distribution and relationships between variables.\n",
    "\n",
    "import matplotlib.pyplot as plt\n",
    "import seaborn as sns\n",
    "\n",
    "# Plot the distribution of 'Age'\n",
    "plt.figure(figsize=(10, 6))\n",
    "sns.histplot(data['Age'], kde=True)\n",
    "plt.title('Age Distribution')\n",
    "plt.show()\n",
    "\n",
    "# Plot the survival rate by class\n",
    "plt.figure(figsize=(10, 6))\n",
    "sns.barplot(x='Pclass', y='Survived', data=data)\n",
    "plt.title('Survival Rate by Class')\n",
    "plt.show()\n",
    "\n"
   ]
  },
  {
   "cell_type": "markdown",
   "metadata": {},
   "source": [
    "## Age Distribution Chart:\n",
    "\n",
    "- Purpose: To visualize the distribution of ages among passengers.\n",
    "- Information:\n",
    "    - Peaks and Troughs: Shows where most passengers' ages cluster.\n",
    "    - Spread: Indicates the range and variability of ages.\n",
    "    - KDE Line: Smoothens the distribution, showing the density of data points.\n",
    "\n",
    "\n",
    "## Survival Rate by Class Chart:\n",
    "\n",
    "- Purpose: To visualize the relationship between ticket class and survival rate.\n",
    "- Information:\n",
    "    - Comparison: Shows how survival rates differ across classes.\n",
    "    - Trends: Indicates which class had higher or lower chances of survival."
   ]
  },
  {
   "cell_type": "code",
   "execution_count": 6,
   "metadata": {},
   "outputs": [
    {
     "name": "stdout",
     "output_type": "stream",
     "text": [
      "Original DataFrame:\n",
      "   Passenger Embarked  Age   Fare\n",
      "0          1        C   22   7.25\n",
      "1          2        Q   38  71.28\n",
      "2          3        S   26   7.92\n",
      "3          4        C   35  53.10\n",
      "\n",
      "DataFrame after One-Hot Encoding:\n",
      "   Passenger  Age   Fare  Embarked_Q  Embarked_S\n",
      "0          1   22   7.25       False       False\n",
      "1          2   38  71.28        True       False\n",
      "2          3   26   7.92       False        True\n",
      "3          4   35  53.10       False       False\n",
      "\n",
      "DataFrame after Standardization:\n",
      "   Passenger       Age      Fare  Embarked_Q  Embarked_S\n",
      "0          1 -1.270171 -0.985298       False       False\n",
      "1          2  1.193191  1.297420        True       False\n",
      "2          3 -0.654330 -0.961412       False        True\n",
      "3          4  0.731310  0.649289       False       False\n"
     ]
    }
   ],
   "source": [
    "import pandas as pd\n",
    "from sklearn.preprocessing import StandardScaler\n",
    "\n",
    "# Create a sample DataFrame\n",
    "data = pd.DataFrame({\n",
    "    'Passenger': [1, 2, 3, 4],\n",
    "    'Embarked': ['C', 'Q', 'S', 'C'],\n",
    "    'Age': [22, 38, 26, 35],\n",
    "    'Fare': [7.25, 71.28, 7.92, 53.10]\n",
    "})\n",
    "\n",
    "print(\"Original DataFrame:\")\n",
    "print(data)\n",
    "\n",
    "# One-hot encode the 'Embarked' column with drop_first=True\n",
    "data_encoded = pd.get_dummies(data, columns=['Embarked'], drop_first=True)\n",
    "print(\"\\nDataFrame after One-Hot Encoding:\")\n",
    "print(data_encoded)\n",
    "\n",
    "# Standardize the 'Age' and 'Fare' columns\n",
    "scaler = StandardScaler()\n",
    "data_encoded[['Age', 'Fare']] = scaler.fit_transform(data_encoded[['Age', 'Fare']])\n",
    "\n",
    "print(\"\\nDataFrame after Standardization:\")\n",
    "print(data_encoded)\n",
    "\n"
   ]
  },
  {
   "cell_type": "code",
   "execution_count": null,
   "metadata": {},
   "outputs": [],
   "source": []
  }
 ],
 "metadata": {
  "kernelspec": {
   "display_name": "kecv",
   "language": "python",
   "name": "python3"
  },
  "language_info": {
   "codemirror_mode": {
    "name": "ipython",
    "version": 3
   },
   "file_extension": ".py",
   "mimetype": "text/x-python",
   "name": "python",
   "nbconvert_exporter": "python",
   "pygments_lexer": "ipython3",
   "version": "3.12.3"
  }
 },
 "nbformat": 4,
 "nbformat_minor": 2
}
