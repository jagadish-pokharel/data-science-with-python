{
 "cells": [
  {
   "cell_type": "code",
   "execution_count": 2,
   "metadata": {},
   "outputs": [
    {
     "name": "stdout",
     "output_type": "stream",
     "text": [
      "hello\n"
     ]
    }
   ],
   "source": [
    "print(\"hello\")"
   ]
  },
  {
   "cell_type": "code",
   "execution_count": 21,
   "metadata": {},
   "outputs": [
    {
     "name": "stdout",
     "output_type": "stream",
     "text": [
      "hello krishna hello are you\n",
      "hello,krishna,how are you\n"
     ]
    }
   ],
   "source": [
    "nn=input()\n",
    "print(\"hello\",nn,\"hello are you\")\n",
    "print(f\"hello,{nn},how are you\")"
   ]
  },
  {
   "cell_type": "code",
   "execution_count": 22,
   "metadata": {},
   "outputs": [
    {
     "name": "stdout",
     "output_type": "stream",
     "text": [
      "hello,abc\n"
     ]
    }
   ],
   "source": [
    "def greet(name):\n",
    "    return f\"hello,{name}\"\n",
    "print(greet(\"abc\"))"
   ]
  },
  {
   "cell_type": "code",
   "execution_count": 26,
   "metadata": {},
   "outputs": [
    {
     "name": "stdout",
     "output_type": "stream",
     "text": [
      "5+3= 8\n",
      "10.0\n"
     ]
    }
   ],
   "source": [
    "def add(a,b):\n",
    "    return a+b\n",
    "def div(a,b):\n",
    "    c=a/b\n",
    "    return c\n",
    "result=add(5,3)\n",
    "print(\"5+3=\",result)\n",
    "print(div(10,1))"
   ]
  },
  {
   "cell_type": "code",
   "execution_count": 23,
   "metadata": {},
   "outputs": [
    {
     "name": "stdout",
     "output_type": "stream",
     "text": [
      "square root of 36 is 6.0\n",
      "the value of pi is 3.141592653589793\n"
     ]
    }
   ],
   "source": [
    "import math \n",
    "print(\"square root of 36 is\",math.sqrt(36))\n",
    "print(\"the value of pi is\",math.pi)\n"
   ]
  },
  {
   "cell_type": "code",
   "execution_count": 24,
   "metadata": {},
   "outputs": [
    {
     "name": "stdout",
     "output_type": "stream",
     "text": [
      "20\n",
      "<class 'list'>\n"
     ]
    }
   ],
   "source": [
    "a=[5,6,4,5]\n",
    "print(sum(a))\n",
    "print(type(a))"
   ]
  },
  {
   "cell_type": "code",
   "execution_count": 25,
   "metadata": {},
   "outputs": [
    {
     "name": "stdout",
     "output_type": "stream",
     "text": [
      "banana\n",
      "1\n",
      "mango\n",
      "5\n",
      "licth\n",
      "45\n",
      "<class 'dict'>\n"
     ]
    }
   ],
   "source": [
    "dict={\"banana\":1,\"mango\":5,\"licth\":45}\n",
    "for aa,bb in dict.items():\n",
    "    print(aa)\n",
    "    print(bb)\n",
    "print(type(dict))"
   ]
  },
  {
   "cell_type": "code",
   "execution_count": 26,
   "metadata": {},
   "outputs": [
    {
     "name": "stdout",
     "output_type": "stream",
     "text": [
      "sum of 1,2,3,4,5 is= 56\n"
     ]
    }
   ],
   "source": [
    "def sum_all(*args):\n",
    "    return sum(args)\n",
    "print(\"sum of 1,2,3,4,5 is=\",sum_all(1,2,3,5,45))"
   ]
  },
  {
   "cell_type": "code",
   "execution_count": 20,
   "metadata": {},
   "outputs": [
    {
     "name": "stdout",
     "output_type": "stream",
     "text": [
      "ram,hello\n",
      "shyam,hi\n",
      "hari,namaste\n"
     ]
    }
   ],
   "source": [
    "def geree_all(**kwargs):\n",
    "    for name,greeting in kwargs.items():\n",
    "        print(f\"{name},{greeting}\")\n",
    "geree_all(ram='hello',shyam='hi',hari='namaste')      \n"
   ]
  },
  {
   "cell_type": "code",
   "execution_count": 27,
   "metadata": {},
   "outputs": [
    {
     "name": "stdout",
     "output_type": "stream",
     "text": [
      "sqaure root is 25\n"
     ]
    }
   ],
   "source": [
    "sqaure=lambda x:x**2\n",
    "print(\"sqaure root is\",sqaure(5))"
   ]
  },
  {
   "cell_type": "code",
   "execution_count": 49,
   "metadata": {},
   "outputs": [
    {
     "name": "stdout",
     "output_type": "stream",
     "text": [
      "5.0\n",
      "error obatained as\n",
      "unsupported operand type(s) for /: 'int' and 'str'\n"
     ]
    }
   ],
   "source": [
    "def divide(a,b):\n",
    "    try:\n",
    "        return a/b\n",
    "    except ZeroDivisionError:\n",
    "        return\"cannot divide by zero\"\n",
    "    except Exception as e:\n",
    "     return f\"error obatained as\\n{e}\"\n",
    "\n",
    "\n",
    "print(divide(10,2))\n",
    "print(divide(0,\"a\"))\n",
    "     "
   ]
  },
  {
   "cell_type": "code",
   "execution_count": 57,
   "metadata": {},
   "outputs": [
    {
     "name": "stdout",
     "output_type": "stream",
     "text": [
      "list of fruits is ['apple', 'banana', 'cherry']\n",
      "fruit apple\n",
      "['apple', 'banana', 'cherry', 'mango']\n",
      "tuple is (10.2, 3.2)\n"
     ]
    }
   ],
   "source": [
    "fruits=['apple','banana','cherry']\n",
    "print(\"list of fruits is\",fruits)\n",
    "#accesing elements\n",
    "print(\"fruit\",fruits[0])\n",
    "fruits.append('mango')\n",
    "print(fruits)\n",
    "#tuple\n",
    "cordinates=(10.2,3.20)\n",
    "print(\"tuple is\",cordinates)"
   ]
  },
  {
   "cell_type": "code",
   "execution_count": 58,
   "metadata": {},
   "outputs": [
    {
     "name": "stdout",
     "output_type": "stream",
     "text": [
      "the sictorinaries value is {'name': 'jagadish', 'age': 22, 'major': 'computerscience'}\n"
     ]
    }
   ],
   "source": [
    "#dictorinaries\n",
    "student={\"name\":\"jagadish\",\"age\":22,\"major\":\"computerscience\"}\n",
    "print('the sictorinaries value is',student)"
   ]
  },
  {
   "cell_type": "code",
   "execution_count": 59,
   "metadata": {},
   "outputs": [
    {
     "name": "stdout",
     "output_type": "stream",
     "text": [
      "students name jagadish\n"
     ]
    }
   ],
   "source": [
    "print(\"students name\",student[\"name\"])"
   ]
  },
  {
   "cell_type": "code",
   "execution_count": 29,
   "metadata": {},
   "outputs": [
    {
     "name": "stdout",
     "output_type": "stream",
     "text": [
      "the elements in the set is {1, 2, 3, 4, 5}\n",
      "the updated list is [100, 64, 36, 16, 4]\n"
     ]
    }
   ],
   "source": [
    "#sets\n",
    "unique_numbers={1,2,3,4,5,2}\n",
    "print(\"the elements in the set is\",unique_numbers)\n",
    "tesp_list=[]\n",
    "for i in range(10,0,-2):\n",
    "    sq=i**2\n",
    "    tesp_list.append(sq)\n",
    "print(\"the updated list is\",tesp_list)    "
   ]
  },
  {
   "cell_type": "code",
   "execution_count": 1,
   "metadata": {},
   "outputs": [
    {
     "ename": "NameError",
     "evalue": "name 'sqaure' is not defined",
     "output_type": "error",
     "traceback": [
      "\u001b[1;31m---------------------------------------------------------------------------\u001b[0m",
      "\u001b[1;31mNameError\u001b[0m                                 Traceback (most recent call last)",
      "Cell \u001b[1;32mIn[1], line 2\u001b[0m\n\u001b[0;32m      1\u001b[0m square\u001b[38;5;241m=\u001b[39m[i\u001b[38;5;241m*\u001b[39m\u001b[38;5;241m*\u001b[39m\u001b[38;5;241m2\u001b[39m  \u001b[38;5;28;01mfor\u001b[39;00m i \u001b[38;5;129;01min\u001b[39;00m \u001b[38;5;28mrange\u001b[39m(\u001b[38;5;241m10\u001b[39m)]\n\u001b[1;32m----> 2\u001b[0m \u001b[38;5;28mprint\u001b[39m(\u001b[38;5;124m\"\u001b[39m\u001b[38;5;124mlist of square is:\u001b[39m\u001b[38;5;124m\"\u001b[39m,\u001b[43msqaure\u001b[49m)\n",
      "\u001b[1;31mNameError\u001b[0m: name 'sqaure' is not defined"
     ]
    }
   ],
   "source": [
    "square=[i**2  for i in range(10)]\n",
    "print(\"list of square is:\",sqaure)"
   ]
  },
  {
   "cell_type": "code",
   "execution_count": 85,
   "metadata": {},
   "outputs": [
    {
     "name": "stdout",
     "output_type": "stream",
     "text": [
      "the updated library is {0: 0, 1: 1, 2: 4, 3: 9, 4: 16, 5: 25, 6: 36, 7: 49, 8: 64, 9: 81}\n"
     ]
    }
   ],
   "source": [
    "square_dict={}\n",
    "for i  in range(10):\n",
    "    sq=i**2\n",
    "    square_dict.update({i:sq})\n",
    "print(\"the updated library is\",square_dict)     "
   ]
  },
  {
   "cell_type": "code",
   "execution_count": 89,
   "metadata": {},
   "outputs": [
    {
     "name": "stdout",
     "output_type": "stream",
     "text": [
      "list of square is: [0, 1, 4, 9, 16, 25, 36, 49, 64, 81]\n"
     ]
    }
   ],
   "source": [
    "square_dictt=[i**2 for i in range(10)]\n",
    "print(\"list of square is:\",square_dictt)"
   ]
  },
  {
   "cell_type": "code",
   "execution_count": 1,
   "metadata": {},
   "outputs": [],
   "source": [
    "#program to take 5 input as name age and phone number save as a dictorinaries and print the list of name search use exception handiling if element is not found"
   ]
  },
  {
   "cell_type": "code",
   "execution_count": 48,
   "metadata": {},
   "outputs": [
    {
     "name": "stdout",
     "output_type": "stream",
     "text": [
      "{'jagadish', '15', '123'}\n"
     ]
    }
   ],
   "source": [
    "dict={}\n",
    "for i in range(1):\n",
    "    name=input(\"enter name\")\n",
    "    age=input(\"enter age\")\n",
    "\n",
    "    phone_number=input(\"enter the phone number\")\n",
    "    dict.update({name:\"name\",age:\"age\",phone_number:\"phone_number\"})\n",
    "k=set(dict)\n",
    "print(k)\n",
    "data=int(input(\"enter the index module data you want to obtained\"))\n",
    "\n",
    "if data <=5:\n",
    "    \n",
    "        try:\n",
    "            print(k)\n",
    "        except: \n",
    "        \n",
    "            print(\"data is not available\")  \n",
    "  \n",
    "\n"
   ]
  },
  {
   "cell_type": "code",
   "execution_count": null,
   "metadata": {},
   "outputs": [],
   "source": []
  },
  {
   "cell_type": "code",
   "execution_count": null,
   "metadata": {},
   "outputs": [],
   "source": []
  }
 ],
 "metadata": {
  "kernelspec": {
   "display_name": "jagadish",
   "language": "python",
   "name": "python3"
  },
  "language_info": {
   "codemirror_mode": {
    "name": "ipython",
    "version": 3
   },
   "file_extension": ".py",
   "mimetype": "text/x-python",
   "name": "python",
   "nbconvert_exporter": "python",
   "pygments_lexer": "ipython3",
   "version": "3.12.3"
  }
 },
 "nbformat": 4,
 "nbformat_minor": 2
}
